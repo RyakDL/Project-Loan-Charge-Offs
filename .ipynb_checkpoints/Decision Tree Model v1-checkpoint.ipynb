{
 "cells": [
  {
   "cell_type": "code",
   "execution_count": null,
   "id": "2ab73d60",
   "metadata": {},
   "outputs": [],
   "source": [
    "# Import Dependencies\n",
    "import pandas as pd\n",
    "from pathlib import Path\n",
    "from sklearn import tree\n",
    "from sklearn.preprocessing import StandardScaler\n",
    "from sklearn.model_selection import train_test_split\n",
    "from sklearn.metrics import confusion_matrix, accuracy_score, classification_report\n",
    "%matplotlib inline"
   ]
  },
  {
   "cell_type": "code",
   "execution_count": null,
   "id": "e1b2eb71",
   "metadata": {},
   "outputs": [],
   "source": [
    "# Import DataFrame \n",
    "main_df = pd.read_csv('Rates_MO.csv')\n",
    "main_df.columns"
   ]
  },
  {
   "cell_type": "code",
   "execution_count": null,
   "id": "0ec98d6e",
   "metadata": {},
   "outputs": [],
   "source": [
    "# Create credit card dataset\n",
    "ccard_df = main_df[['observation_date', 'CCARD_CO', 'CCARD_DELNQ', 'GDP', 'Household_DBT_Inc', 'Consumer_Confidence', 'FEDFUNDS', 'SAVINGS_RATE_MO', 'UNRATE']]\n",
    "\n",
    "# Create copy for bins\n",
    "ccard_bin_df = ccard_df.copy()"
   ]
  },
  {
   "cell_type": "code",
   "execution_count": null,
   "id": "115135f0",
   "metadata": {},
   "outputs": [],
   "source": [
    "# Binning the data for classification Question: \n",
    "# Should we be using pd cut to get more bins? \n",
    "ccard_bin_df[\"CCARD_CO_BIN\"] = pd.qcut(ccard_df['CCARD_CO'],4, labels= [1, 2, 3, 4])\n",
    "ccard_bin_df[\"CCARD_DELNQ_BIN\"] = pd.qcut(ccard_df['CCARD_DELNQ'],4, labels= ['low', 'medium-low', 'medium-high', 'high'])\n",
    "ccard_bin_df[\"GDP_BIN\"] = pd.qcut(ccard_df['GDP'],4, labels= ['low', 'medium-low', 'medium-high', 'high'])\n",
    "ccard_bin_df[\"Household_DBT_Inc_BIN\"] = pd.qcut(ccard_df['Household_DBT_Inc'],4, labels= ['low', 'medium-low', 'medium-high', 'high'])\n",
    "ccard_bin_df[\"Consumer_Confidence_BIN\"] = pd.qcut(ccard_df['Consumer_Confidence'],4, labels= ['low', 'medium-low', 'medium-high', 'high'])\n",
    "ccard_bin_df[\"FEDFUNDS_BIN\"] = pd.qcut(ccard_df['FEDFUNDS'],4, labels= ['low', 'medium-low', 'medium-high', 'high'])\n",
    "ccard_bin_df[\"SAVINGS_RATE_MO_BIN\"] = pd.qcut(ccard_df['SAVINGS_RATE_MO'],4, labels= ['low', 'medium-low', 'medium-high', 'high'])\n",
    "ccard_bin_df[\"UNRATE_BIN\"] = pd.qcut(ccard_df['UNRATE'],4, labels= ['low', 'medium-low', 'medium-high', 'high'])\n"
   ]
  },
  {
   "cell_type": "code",
   "execution_count": null,
   "id": "ae03ba61",
   "metadata": {},
   "outputs": [],
   "source": [
    "# Seperate the y and X variables\n",
    "y = ccard_bin_df[\"CCARD_CO_BIN\"]\n",
    "X_bin = ccard_bin_df.drop(columns=[\"CCARD_CO\", \"observation_date\", \"CCARD_DELNQ\", \"GDP\", \"Household_DBT_Inc\", \"Consumer_Confidence\", \"FEDFUNDS\", \"SAVINGS_RATE_MO\", \"UNRATE\", \"CCARD_CO_BIN\"])\n",
    "X_bin.columns"
   ]
  },
  {
   "cell_type": "code",
   "execution_count": null,
   "id": "03a86bba",
   "metadata": {},
   "outputs": [],
   "source": [
    "# Turn data into dummies\n",
    "X_bin =pd.get_dummies(X_bin)\n",
    "X = pd.concat([y, X_bin], axis=1)\n",
    "X"
   ]
  },
  {
   "cell_type": "code",
   "execution_count": null,
   "id": "2e6ca3c6",
   "metadata": {},
   "outputs": [],
   "source": [
    "# Splitting into Train and Test sets\n",
    "X_train, X_test, y_train, y_test = train_test_split(X_bin, y, random_state=78)"
   ]
  },
  {
   "cell_type": "code",
   "execution_count": null,
   "id": "5174b072",
   "metadata": {},
   "outputs": [],
   "source": [
    "# Creating StandardScaler instance\n",
    "scaler = StandardScaler()\n",
    "\n",
    "# Fitting Standard Scaler\n",
    "X_scaler = scaler.fit(X_train)\n",
    "\n",
    "# Scaling data\n",
    "X_train_scaled = X_scaler.transform(X_train)\n",
    "X_test_scaled = X_scaler.transform(X_test)"
   ]
  },
  {
   "cell_type": "code",
   "execution_count": null,
   "id": "204672eb",
   "metadata": {},
   "outputs": [],
   "source": [
    "# Creating the decision tree classifier instance\n",
    "model = tree.DecisionTreeClassifier()"
   ]
  },
  {
   "cell_type": "code",
   "execution_count": null,
   "id": "f6e613e9",
   "metadata": {},
   "outputs": [],
   "source": [
    "# Fitting the model\n",
    "model = model.fit(X_train_scaled, y_train)"
   ]
  },
  {
   "cell_type": "code",
   "execution_count": null,
   "id": "7f8b37e9",
   "metadata": {},
   "outputs": [],
   "source": [
    "# Making predictions using the testing data\n",
    "predictions = model.predict(X_test_scaled)"
   ]
  },
  {
   "cell_type": "code",
   "execution_count": null,
   "id": "30c4bd83",
   "metadata": {},
   "outputs": [],
   "source": [
    "# Calculating the confusion matrix\n",
    "cm = confusion_matrix(y_test, predictions)\n",
    "cm_df = pd.DataFrame(\n",
    "    cm, index=[\"Actual Low\", \"Actual Medium-Low\", \"Actual Medium-High\", \"High\"], columns=[\"Predicted Low\", \"Predicted Medium-Low\", \"Predicted Medium-High\", \"Predicted High\"]\n",
    ")\n",
    "\n",
    "# Calculating the accuracy score\n",
    "acc_score = accuracy_score(y_test, predictions)"
   ]
  },
  {
   "cell_type": "code",
   "execution_count": null,
   "id": "97969075",
   "metadata": {},
   "outputs": [],
   "source": [
    "# Displaying results\n",
    "print(\"Confusion Matrix\")\n",
    "display(cm_df)\n",
    "print(f\"Accuracy Score : {acc_score}\")\n",
    "print(\"Classification Report\")\n",
    "print(classification_report(y_test, predictions))"
   ]
  },
  {
   "cell_type": "code",
   "execution_count": null,
   "id": "2aa8ad3a",
   "metadata": {},
   "outputs": [],
   "source": []
  }
 ],
 "metadata": {
  "kernelspec": {
   "display_name": "Python 3 (ipykernel)",
   "language": "python",
   "name": "python3"
  },
  "language_info": {
   "codemirror_mode": {
    "name": "ipython",
    "version": 3
   },
   "file_extension": ".py",
   "mimetype": "text/x-python",
   "name": "python",
   "nbconvert_exporter": "python",
   "pygments_lexer": "ipython3",
   "version": "3.10.12"
  }
 },
 "nbformat": 4,
 "nbformat_minor": 5
}
