{
 "cells": [
  {
   "cell_type": "code",
   "execution_count": 1,
   "id": "356ab9bd",
   "metadata": {},
   "outputs": [],
   "source": [
    "# Import Dependencies\n",
    "import pandas as pd\n",
    "from pathlib import Path\n",
    "from sklearn.ensemble import RandomForestClassifier\n",
    "from sklearn.preprocessing import StandardScaler\n",
    "from sklearn.model_selection import train_test_split\n",
    "from sklearn.metrics import confusion_matrix, accuracy_score, classification_report\n",
    "%matplotlib inline"
   ]
  },
  {
   "cell_type": "code",
   "execution_count": 2,
   "id": "e2e29c4a",
   "metadata": {},
   "outputs": [
    {
     "data": {
      "text/plain": [
       "Index(['Unnamed: 0', 'observation_date', 'C&I_DELNQ', 'CCARD_CO',\n",
       "       'CCARD_DELNQ', 'CORP_DEBT_NET_WORTH', 'CORP_SAVINGS_LEVEL', 'CRE_CO',\n",
       "       'CRE_DELNQ', 'GDP', 'Homeowner_Vacancy_rate', 'Household_DBT_Inc',\n",
       "       'Mortgage_CO', 'Mortgage_DELNQ', 'Rental_Vacancy_Rate',\n",
       "       'Consumer_Confidence', 'FEDFUNDS', 'Manufacturing_Confidence',\n",
       "       'SAVINGS_RATE_MO', 'UNRATE', 'C&I_CO'],\n",
       "      dtype='object')"
      ]
     },
     "execution_count": 2,
     "metadata": {},
     "output_type": "execute_result"
    }
   ],
   "source": [
    "# Import DataFrame \n",
    "main_df = pd.read_csv('Rates_MO.csv')\n",
    "main_df.columns"
   ]
  },
  {
   "cell_type": "code",
   "execution_count": 3,
   "id": "b743560c",
   "metadata": {},
   "outputs": [
    {
     "data": {
      "text/html": [
       "<div>\n",
       "<style scoped>\n",
       "    .dataframe tbody tr th:only-of-type {\n",
       "        vertical-align: middle;\n",
       "    }\n",
       "\n",
       "    .dataframe tbody tr th {\n",
       "        vertical-align: top;\n",
       "    }\n",
       "\n",
       "    .dataframe thead th {\n",
       "        text-align: right;\n",
       "    }\n",
       "</style>\n",
       "<table border=\"1\" class=\"dataframe\">\n",
       "  <thead>\n",
       "    <tr style=\"text-align: right;\">\n",
       "      <th></th>\n",
       "      <th>observation_date</th>\n",
       "      <th>CCARD_CO</th>\n",
       "      <th>CCARD_DELNQ</th>\n",
       "      <th>GDP</th>\n",
       "      <th>Household_DBT_Inc</th>\n",
       "      <th>Consumer_Confidence</th>\n",
       "      <th>FEDFUNDS</th>\n",
       "      <th>SAVINGS_RATE_MO</th>\n",
       "      <th>UNRATE</th>\n",
       "    </tr>\n",
       "  </thead>\n",
       "  <tbody>\n",
       "    <tr>\n",
       "      <th>0</th>\n",
       "      <td>1991-01-01</td>\n",
       "      <td>4.16</td>\n",
       "      <td>5.26</td>\n",
       "      <td>-1.9</td>\n",
       "      <td>11.578032</td>\n",
       "      <td>66.8</td>\n",
       "      <td>6.91</td>\n",
       "      <td>9.4</td>\n",
       "      <td>6.4</td>\n",
       "    </tr>\n",
       "    <tr>\n",
       "      <th>1</th>\n",
       "      <td>1991-02-01</td>\n",
       "      <td>4.16</td>\n",
       "      <td>5.26</td>\n",
       "      <td>-1.9</td>\n",
       "      <td>11.578032</td>\n",
       "      <td>70.4</td>\n",
       "      <td>6.25</td>\n",
       "      <td>9.0</td>\n",
       "      <td>6.6</td>\n",
       "    </tr>\n",
       "    <tr>\n",
       "      <th>2</th>\n",
       "      <td>1991-03-01</td>\n",
       "      <td>4.16</td>\n",
       "      <td>5.26</td>\n",
       "      <td>-1.9</td>\n",
       "      <td>11.578032</td>\n",
       "      <td>87.7</td>\n",
       "      <td>6.12</td>\n",
       "      <td>8.1</td>\n",
       "      <td>6.8</td>\n",
       "    </tr>\n",
       "    <tr>\n",
       "      <th>3</th>\n",
       "      <td>1991-04-01</td>\n",
       "      <td>4.60</td>\n",
       "      <td>5.48</td>\n",
       "      <td>3.2</td>\n",
       "      <td>11.434237</td>\n",
       "      <td>81.8</td>\n",
       "      <td>5.91</td>\n",
       "      <td>8.7</td>\n",
       "      <td>6.7</td>\n",
       "    </tr>\n",
       "    <tr>\n",
       "      <th>4</th>\n",
       "      <td>1991-05-01</td>\n",
       "      <td>4.60</td>\n",
       "      <td>5.48</td>\n",
       "      <td>3.2</td>\n",
       "      <td>11.434237</td>\n",
       "      <td>78.3</td>\n",
       "      <td>5.78</td>\n",
       "      <td>8.5</td>\n",
       "      <td>6.9</td>\n",
       "    </tr>\n",
       "  </tbody>\n",
       "</table>\n",
       "</div>"
      ],
      "text/plain": [
       "  observation_date  CCARD_CO  CCARD_DELNQ  GDP  Household_DBT_Inc  \\\n",
       "0       1991-01-01      4.16         5.26 -1.9          11.578032   \n",
       "1       1991-02-01      4.16         5.26 -1.9          11.578032   \n",
       "2       1991-03-01      4.16         5.26 -1.9          11.578032   \n",
       "3       1991-04-01      4.60         5.48  3.2          11.434237   \n",
       "4       1991-05-01      4.60         5.48  3.2          11.434237   \n",
       "\n",
       "   Consumer_Confidence  FEDFUNDS  SAVINGS_RATE_MO  UNRATE  \n",
       "0                 66.8      6.91              9.4     6.4  \n",
       "1                 70.4      6.25              9.0     6.6  \n",
       "2                 87.7      6.12              8.1     6.8  \n",
       "3                 81.8      5.91              8.7     6.7  \n",
       "4                 78.3      5.78              8.5     6.9  "
      ]
     },
     "execution_count": 3,
     "metadata": {},
     "output_type": "execute_result"
    }
   ],
   "source": [
    "# Create credit card dataset\n",
    "ccard_df = main_df[['observation_date', 'CCARD_CO', 'CCARD_DELNQ', 'GDP', 'Household_DBT_Inc', 'Consumer_Confidence', 'FEDFUNDS', 'SAVINGS_RATE_MO', 'UNRATE']]\n",
    "\n",
    "ccard_df.head()"
   ]
  },
  {
   "cell_type": "code",
   "execution_count": null,
   "id": "2fdf12db",
   "metadata": {},
   "outputs": [],
   "source": []
  }
 ],
 "metadata": {
  "kernelspec": {
   "display_name": "Python 3 (ipykernel)",
   "language": "python",
   "name": "python3"
  },
  "language_info": {
   "codemirror_mode": {
    "name": "ipython",
    "version": 3
   },
   "file_extension": ".py",
   "mimetype": "text/x-python",
   "name": "python",
   "nbconvert_exporter": "python",
   "pygments_lexer": "ipython3",
   "version": "3.10.12"
  }
 },
 "nbformat": 4,
 "nbformat_minor": 5
}
