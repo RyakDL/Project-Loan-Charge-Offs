{
 "cells": [
  {
   "cell_type": "code",
   "execution_count": 2,
   "id": "f1ab617d",
   "metadata": {},
   "outputs": [],
   "source": [
    "# Import Dependencies\n",
    "import pandas as pd\n",
    "from pathlib import Path\n",
    "from sklearn.ensemble import RandomForestClassifier\n",
    "from sklearn.preprocessing import StandardScaler\n",
    "from sklearn.model_selection import train_test_split\n",
    "from sklearn.metrics import confusion_matrix, accuracy_score, classification_report\n",
    "%matplotlib inline"
   ]
  },
  {
   "cell_type": "code",
   "execution_count": 2,
   "id": "6fd0fbeb",
   "metadata": {},
   "outputs": [
    {
     "data": {
      "text/plain": [
       "Index(['Unnamed: 0', 'observation_date', 'C&I_DELNQ', 'CCARD_CO',\n",
       "       'CCARD_DELNQ', 'CORP_DEBT_NET_WORTH', 'CORP_SAVINGS_LEVEL', 'CRE_CO',\n",
       "       'CRE_DELNQ', 'GDP', 'Homeowner_Vacancy_rate', 'Household_DBT_Inc',\n",
       "       'Mortgage_CO', 'Mortgage_DELNQ', 'Rental_Vacancy_Rate',\n",
       "       'Consumer_Confidence', 'FEDFUNDS', 'Manufacturing_Confidence',\n",
       "       'SAVINGS_RATE_MO', 'UNRATE', 'C&I_CO'],\n",
       "      dtype='object')"
      ]
     },
     "execution_count": 2,
     "metadata": {},
     "output_type": "execute_result"
    }
   ],
   "source": [
    "# Import DataFrame \n",
    "main_df = pd.read_csv('Rates_MO.csv')\n",
    "main_df.columns"
   ]
  },
  {
   "cell_type": "code",
   "execution_count": 3,
   "id": "3ff266a5",
   "metadata": {},
   "outputs": [],
   "source": [
    "# Create credit card dataset\n",
    "ccard_df = main_df[['observation_date', 'CCARD_CO', 'CCARD_DELNQ', 'GDP', 'Household_DBT_Inc', 'Consumer_Confidence', 'FEDFUNDS', 'SAVINGS_RATE_MO', 'UNRATE']]"
   ]
  },
  {
   "cell_type": "code",
   "execution_count": 4,
   "id": "87e70921",
   "metadata": {},
   "outputs": [
    {
     "data": {
      "text/plain": [
       "observation_date        object\n",
       "CCARD_CO               float64\n",
       "CCARD_DELNQ            float64\n",
       "GDP                    float64\n",
       "Household_DBT_Inc      float64\n",
       "Consumer_Confidence    float64\n",
       "FEDFUNDS               float64\n",
       "SAVINGS_RATE_MO        float64\n",
       "UNRATE                 float64\n",
       "dtype: object"
      ]
     },
     "execution_count": 4,
     "metadata": {},
     "output_type": "execute_result"
    }
   ],
   "source": [
    "ccard_df.dtypes"
   ]
  },
  {
   "cell_type": "code",
   "execution_count": 5,
   "id": "7a64e687",
   "metadata": {},
   "outputs": [],
   "source": [
    "ccard_bin_df = ccard_df.copy()"
   ]
  },
  {
   "cell_type": "code",
   "execution_count": 6,
   "id": "4092f112",
   "metadata": {},
   "outputs": [],
   "source": [
    "#ccard_df['CCARD_CO']=ccard_df['CCARD_CO'].astype(int)"
   ]
  },
  {
   "cell_type": "code",
   "execution_count": 7,
   "id": "78d91a16",
   "metadata": {},
   "outputs": [
    {
     "name": "stdout",
     "output_type": "stream",
     "text": [
      "10.51\n",
      "1.66\n",
      "390\n"
     ]
    }
   ],
   "source": [
    "# Find Minimum and Maximum values to determine number of bins\n",
    "a=ccard_df['CCARD_CO'].max()\n",
    "b=ccard_df['CCARD_CO'].min()\n",
    "c=ccard_df['CCARD_CO'].count()\n",
    "print(a)\n",
    "print(b)\n",
    "print(c)"
   ]
  },
  {
   "cell_type": "code",
   "execution_count": 1,
   "id": "1b23f5fd",
   "metadata": {},
   "outputs": [
    {
     "ename": "NameError",
     "evalue": "name 'pd' is not defined",
     "output_type": "error",
     "traceback": [
      "\u001b[1;31m---------------------------------------------------------------------------\u001b[0m",
      "\u001b[1;31mNameError\u001b[0m                                 Traceback (most recent call last)",
      "\u001b[1;32mc:\\Users\\guerr\\Desktop\\Berkeley_Bootcamp_DataAnalysis\\Project 4\\Project-Loan-Charge-Offs\\Random Forests & Deep Learning-Ryan.ipynb Cell 8\u001b[0m line \u001b[0;36m3\n\u001b[0;32m      <a href='vscode-notebook-cell:/c%3A/Users/guerr/Desktop/Berkeley_Bootcamp_DataAnalysis/Project%204/Project-Loan-Charge-Offs/Random%20Forests%20%26%20Deep%20Learning-Ryan.ipynb#X10sZmlsZQ%3D%3D?line=0'>1</a>\u001b[0m \u001b[39m# Binning the data for classification Question: \u001b[39;00m\n\u001b[0;32m      <a href='vscode-notebook-cell:/c%3A/Users/guerr/Desktop/Berkeley_Bootcamp_DataAnalysis/Project%204/Project-Loan-Charge-Offs/Random%20Forests%20%26%20Deep%20Learning-Ryan.ipynb#X10sZmlsZQ%3D%3D?line=1'>2</a>\u001b[0m \u001b[39m# Should we be using pd cut to get more bins? \u001b[39;00m\n\u001b[1;32m----> <a href='vscode-notebook-cell:/c%3A/Users/guerr/Desktop/Berkeley_Bootcamp_DataAnalysis/Project%204/Project-Loan-Charge-Offs/Random%20Forests%20%26%20Deep%20Learning-Ryan.ipynb#X10sZmlsZQ%3D%3D?line=2'>3</a>\u001b[0m ccard_bin_df[\u001b[39m\"\u001b[39m\u001b[39mCCARD_CO_BIN\u001b[39m\u001b[39m\"\u001b[39m] \u001b[39m=\u001b[39m pd\u001b[39m.\u001b[39mqcut(ccard_df[\u001b[39m'\u001b[39m\u001b[39mCCARD_CO\u001b[39m\u001b[39m'\u001b[39m],\u001b[39m4\u001b[39m, labels\u001b[39m=\u001b[39m [\u001b[39m1\u001b[39m, \u001b[39m2\u001b[39m, \u001b[39m3\u001b[39m, \u001b[39m4\u001b[39m])\n\u001b[0;32m      <a href='vscode-notebook-cell:/c%3A/Users/guerr/Desktop/Berkeley_Bootcamp_DataAnalysis/Project%204/Project-Loan-Charge-Offs/Random%20Forests%20%26%20Deep%20Learning-Ryan.ipynb#X10sZmlsZQ%3D%3D?line=3'>4</a>\u001b[0m ccard_bin_df[\u001b[39m\"\u001b[39m\u001b[39mCCARD_DELNQ_BIN\u001b[39m\u001b[39m\"\u001b[39m] \u001b[39m=\u001b[39m pd\u001b[39m.\u001b[39mqcut(ccard_df[\u001b[39m'\u001b[39m\u001b[39mCCARD_DELNQ\u001b[39m\u001b[39m'\u001b[39m],\u001b[39m4\u001b[39m, labels\u001b[39m=\u001b[39m [\u001b[39m'\u001b[39m\u001b[39mlow\u001b[39m\u001b[39m'\u001b[39m, \u001b[39m'\u001b[39m\u001b[39mmedium-low\u001b[39m\u001b[39m'\u001b[39m, \u001b[39m'\u001b[39m\u001b[39mmedium-high\u001b[39m\u001b[39m'\u001b[39m, \u001b[39m'\u001b[39m\u001b[39mhigh\u001b[39m\u001b[39m'\u001b[39m])\n\u001b[0;32m      <a href='vscode-notebook-cell:/c%3A/Users/guerr/Desktop/Berkeley_Bootcamp_DataAnalysis/Project%204/Project-Loan-Charge-Offs/Random%20Forests%20%26%20Deep%20Learning-Ryan.ipynb#X10sZmlsZQ%3D%3D?line=4'>5</a>\u001b[0m ccard_bin_df[\u001b[39m\"\u001b[39m\u001b[39mGDP_BIN\u001b[39m\u001b[39m\"\u001b[39m] \u001b[39m=\u001b[39m pd\u001b[39m.\u001b[39mqcut(ccard_df[\u001b[39m'\u001b[39m\u001b[39mGDP\u001b[39m\u001b[39m'\u001b[39m],\u001b[39m4\u001b[39m, labels\u001b[39m=\u001b[39m [\u001b[39m'\u001b[39m\u001b[39mlow\u001b[39m\u001b[39m'\u001b[39m, \u001b[39m'\u001b[39m\u001b[39mmedium-low\u001b[39m\u001b[39m'\u001b[39m, \u001b[39m'\u001b[39m\u001b[39mmedium-high\u001b[39m\u001b[39m'\u001b[39m, \u001b[39m'\u001b[39m\u001b[39mhigh\u001b[39m\u001b[39m'\u001b[39m])\n",
      "\u001b[1;31mNameError\u001b[0m: name 'pd' is not defined"
     ]
    }
   ],
   "source": [
    "# Binning the data for classification Question: \n",
    "# Should we be using pd cut to get more bins? \n",
    "ccard_bin_df[\"CCARD_CO_BIN\"] = pd.qcut(ccard_df['CCARD_CO'],4, labels= [1, 2, 3, 4])\n",
    "ccard_bin_df[\"CCARD_DELNQ_BIN\"] = pd.qcut(ccard_df['CCARD_DELNQ'],4, labels= ['low', 'medium-low', 'medium-high', 'high'])\n",
    "ccard_bin_df[\"GDP_BIN\"] = pd.qcut(ccard_df['GDP'],4, labels= ['low', 'medium-low', 'medium-high', 'high'])\n",
    "ccard_bin_df[\"Household_DBT_Inc_BIN\"] = pd.qcut(ccard_df['Household_DBT_Inc'],4, labels= ['low', 'medium-low', 'medium-high', 'high'])\n",
    "ccard_bin_df[\"Consumer_Confidence_BIN\"] = pd.qcut(ccard_df['Consumer_Confidence'],4, labels= ['low', 'medium-low', 'medium-high', 'high'])\n",
    "ccard_bin_df[\"FEDFUNDS_BIN\"] = pd.qcut(ccard_df['FEDFUNDS'],4, labels= ['low', 'medium-low', 'medium-high', 'high'])\n",
    "ccard_bin_df[\"SAVINGS_RATE_MO_BIN\"] = pd.qcut(ccard_df['SAVINGS_RATE_MO'],4, labels= ['low', 'medium-low', 'medium-high', 'high'])\n",
    "ccard_bin_df[\"UNRATE_BIN\"] = pd.qcut(ccard_df['UNRATE'],4, labels= ['low', 'medium-low', 'medium-high', 'high'])\n"
   ]
  },
  {
   "cell_type": "code",
   "execution_count": 9,
   "id": "7951b904",
   "metadata": {},
   "outputs": [
    {
     "data": {
      "text/html": [
       "<div>\n",
       "<style scoped>\n",
       "    .dataframe tbody tr th:only-of-type {\n",
       "        vertical-align: middle;\n",
       "    }\n",
       "\n",
       "    .dataframe tbody tr th {\n",
       "        vertical-align: top;\n",
       "    }\n",
       "\n",
       "    .dataframe thead th {\n",
       "        text-align: right;\n",
       "    }\n",
       "</style>\n",
       "<table border=\"1\" class=\"dataframe\">\n",
       "  <thead>\n",
       "    <tr style=\"text-align: right;\">\n",
       "      <th></th>\n",
       "      <th>observation_date</th>\n",
       "      <th>CCARD_CO</th>\n",
       "      <th>CCARD_DELNQ</th>\n",
       "      <th>GDP</th>\n",
       "      <th>Household_DBT_Inc</th>\n",
       "      <th>Consumer_Confidence</th>\n",
       "      <th>FEDFUNDS</th>\n",
       "      <th>SAVINGS_RATE_MO</th>\n",
       "      <th>UNRATE</th>\n",
       "      <th>CCARD_CO_BIN</th>\n",
       "      <th>CCARD_DELNQ_BIN</th>\n",
       "      <th>GDP_BIN</th>\n",
       "      <th>Household_DBT_Inc_BIN</th>\n",
       "      <th>Consumer_Confidence_BIN</th>\n",
       "      <th>FEDFUNDS_BIN</th>\n",
       "      <th>SAVINGS_RATE_MO_BIN</th>\n",
       "      <th>UNRATE_BIN</th>\n",
       "    </tr>\n",
       "  </thead>\n",
       "  <tbody>\n",
       "    <tr>\n",
       "      <th>0</th>\n",
       "      <td>1991-01-01</td>\n",
       "      <td>4.16</td>\n",
       "      <td>5.26</td>\n",
       "      <td>-1.9</td>\n",
       "      <td>11.578032</td>\n",
       "      <td>66.8</td>\n",
       "      <td>6.91</td>\n",
       "      <td>9.4</td>\n",
       "      <td>6.4</td>\n",
       "      <td>medium-high</td>\n",
       "      <td>high</td>\n",
       "      <td>low</td>\n",
       "      <td>medium-high</td>\n",
       "      <td>low</td>\n",
       "      <td>high</td>\n",
       "      <td>high</td>\n",
       "      <td>medium-high</td>\n",
       "    </tr>\n",
       "    <tr>\n",
       "      <th>1</th>\n",
       "      <td>1991-02-01</td>\n",
       "      <td>4.16</td>\n",
       "      <td>5.26</td>\n",
       "      <td>-1.9</td>\n",
       "      <td>11.578032</td>\n",
       "      <td>70.4</td>\n",
       "      <td>6.25</td>\n",
       "      <td>9.0</td>\n",
       "      <td>6.6</td>\n",
       "      <td>medium-high</td>\n",
       "      <td>high</td>\n",
       "      <td>low</td>\n",
       "      <td>medium-high</td>\n",
       "      <td>low</td>\n",
       "      <td>high</td>\n",
       "      <td>high</td>\n",
       "      <td>medium-high</td>\n",
       "    </tr>\n",
       "    <tr>\n",
       "      <th>2</th>\n",
       "      <td>1991-03-01</td>\n",
       "      <td>4.16</td>\n",
       "      <td>5.26</td>\n",
       "      <td>-1.9</td>\n",
       "      <td>11.578032</td>\n",
       "      <td>87.7</td>\n",
       "      <td>6.12</td>\n",
       "      <td>8.1</td>\n",
       "      <td>6.8</td>\n",
       "      <td>medium-high</td>\n",
       "      <td>high</td>\n",
       "      <td>low</td>\n",
       "      <td>medium-high</td>\n",
       "      <td>medium-low</td>\n",
       "      <td>high</td>\n",
       "      <td>high</td>\n",
       "      <td>high</td>\n",
       "    </tr>\n",
       "    <tr>\n",
       "      <th>3</th>\n",
       "      <td>1991-04-01</td>\n",
       "      <td>4.60</td>\n",
       "      <td>5.48</td>\n",
       "      <td>3.2</td>\n",
       "      <td>11.434237</td>\n",
       "      <td>81.8</td>\n",
       "      <td>5.91</td>\n",
       "      <td>8.7</td>\n",
       "      <td>6.7</td>\n",
       "      <td>medium-high</td>\n",
       "      <td>high</td>\n",
       "      <td>medium-high</td>\n",
       "      <td>medium-high</td>\n",
       "      <td>medium-low</td>\n",
       "      <td>high</td>\n",
       "      <td>high</td>\n",
       "      <td>medium-high</td>\n",
       "    </tr>\n",
       "    <tr>\n",
       "      <th>4</th>\n",
       "      <td>1991-05-01</td>\n",
       "      <td>4.60</td>\n",
       "      <td>5.48</td>\n",
       "      <td>3.2</td>\n",
       "      <td>11.434237</td>\n",
       "      <td>78.3</td>\n",
       "      <td>5.78</td>\n",
       "      <td>8.5</td>\n",
       "      <td>6.9</td>\n",
       "      <td>medium-high</td>\n",
       "      <td>high</td>\n",
       "      <td>medium-high</td>\n",
       "      <td>medium-high</td>\n",
       "      <td>medium-low</td>\n",
       "      <td>high</td>\n",
       "      <td>high</td>\n",
       "      <td>high</td>\n",
       "    </tr>\n",
       "  </tbody>\n",
       "</table>\n",
       "</div>"
      ],
      "text/plain": [
       "  observation_date  CCARD_CO  CCARD_DELNQ  GDP  Household_DBT_Inc  \\\n",
       "0       1991-01-01      4.16         5.26 -1.9          11.578032   \n",
       "1       1991-02-01      4.16         5.26 -1.9          11.578032   \n",
       "2       1991-03-01      4.16         5.26 -1.9          11.578032   \n",
       "3       1991-04-01      4.60         5.48  3.2          11.434237   \n",
       "4       1991-05-01      4.60         5.48  3.2          11.434237   \n",
       "\n",
       "   Consumer_Confidence  FEDFUNDS  SAVINGS_RATE_MO  UNRATE CCARD_CO_BIN  \\\n",
       "0                 66.8      6.91              9.4     6.4  medium-high   \n",
       "1                 70.4      6.25              9.0     6.6  medium-high   \n",
       "2                 87.7      6.12              8.1     6.8  medium-high   \n",
       "3                 81.8      5.91              8.7     6.7  medium-high   \n",
       "4                 78.3      5.78              8.5     6.9  medium-high   \n",
       "\n",
       "  CCARD_DELNQ_BIN      GDP_BIN Household_DBT_Inc_BIN Consumer_Confidence_BIN  \\\n",
       "0            high          low           medium-high                     low   \n",
       "1            high          low           medium-high                     low   \n",
       "2            high          low           medium-high              medium-low   \n",
       "3            high  medium-high           medium-high              medium-low   \n",
       "4            high  medium-high           medium-high              medium-low   \n",
       "\n",
       "  FEDFUNDS_BIN SAVINGS_RATE_MO_BIN   UNRATE_BIN  \n",
       "0         high                high  medium-high  \n",
       "1         high                high  medium-high  \n",
       "2         high                high         high  \n",
       "3         high                high  medium-high  \n",
       "4         high                high         high  "
      ]
     },
     "execution_count": 9,
     "metadata": {},
     "output_type": "execute_result"
    }
   ],
   "source": [
    "ccard_bin_df.head()"
   ]
  },
  {
   "cell_type": "code",
   "execution_count": 10,
   "id": "d2a02852",
   "metadata": {},
   "outputs": [
    {
     "data": {
      "text/plain": [
       "Index(['CCARD_CO_BIN', 'CCARD_DELNQ_BIN', 'GDP_BIN', 'Household_DBT_Inc_BIN',\n",
       "       'Consumer_Confidence_BIN', 'FEDFUNDS_BIN', 'SAVINGS_RATE_MO_BIN',\n",
       "       'UNRATE_BIN'],\n",
       "      dtype='object')"
      ]
     },
     "execution_count": 10,
     "metadata": {},
     "output_type": "execute_result"
    }
   ],
   "source": [
    "# Seperate the y and X variables\n",
    "y = ccard_bin_df[\"CCARD_CO_BIN\"]\n",
    "X_bin = ccard_bin_df.drop(columns=[\"CCARD_CO\", \"observation_date\", \"CCARD_DELNQ\", \"GDP\", \"Household_DBT_Inc\", \"Consumer_Confidence\", \"FEDFUNDS\", \"SAVINGS_RATE_MO\", \"UNRATE\", \"CCARD_CO_BIN\"])\n",
    "X_bin.columns"
   ]
  },
  {
   "cell_type": "code",
   "execution_count": 11,
   "id": "a8ca7433",
   "metadata": {},
   "outputs": [
    {
     "data": {
      "text/html": [
       "<div>\n",
       "<style scoped>\n",
       "    .dataframe tbody tr th:only-of-type {\n",
       "        vertical-align: middle;\n",
       "    }\n",
       "\n",
       "    .dataframe tbody tr th {\n",
       "        vertical-align: top;\n",
       "    }\n",
       "\n",
       "    .dataframe thead th {\n",
       "        text-align: right;\n",
       "    }\n",
       "</style>\n",
       "<table border=\"1\" class=\"dataframe\">\n",
       "  <thead>\n",
       "    <tr style=\"text-align: right;\">\n",
       "      <th></th>\n",
       "      <th>CCARD_CO_BIN_low</th>\n",
       "      <th>CCARD_CO_BIN_medium-low</th>\n",
       "      <th>CCARD_CO_BIN_medium-high</th>\n",
       "      <th>CCARD_CO_BIN_high</th>\n",
       "      <th>CCARD_DELNQ_BIN_low</th>\n",
       "      <th>CCARD_DELNQ_BIN_medium-low</th>\n",
       "      <th>CCARD_DELNQ_BIN_medium-high</th>\n",
       "      <th>CCARD_DELNQ_BIN_high</th>\n",
       "      <th>GDP_BIN_low</th>\n",
       "      <th>GDP_BIN_medium-low</th>\n",
       "      <th>...</th>\n",
       "      <th>FEDFUNDS_BIN_medium-high</th>\n",
       "      <th>FEDFUNDS_BIN_high</th>\n",
       "      <th>SAVINGS_RATE_MO_BIN_low</th>\n",
       "      <th>SAVINGS_RATE_MO_BIN_medium-low</th>\n",
       "      <th>SAVINGS_RATE_MO_BIN_medium-high</th>\n",
       "      <th>SAVINGS_RATE_MO_BIN_high</th>\n",
       "      <th>UNRATE_BIN_low</th>\n",
       "      <th>UNRATE_BIN_medium-low</th>\n",
       "      <th>UNRATE_BIN_medium-high</th>\n",
       "      <th>UNRATE_BIN_high</th>\n",
       "    </tr>\n",
       "  </thead>\n",
       "  <tbody>\n",
       "    <tr>\n",
       "      <th>0</th>\n",
       "      <td>0</td>\n",
       "      <td>0</td>\n",
       "      <td>1</td>\n",
       "      <td>0</td>\n",
       "      <td>0</td>\n",
       "      <td>0</td>\n",
       "      <td>0</td>\n",
       "      <td>1</td>\n",
       "      <td>1</td>\n",
       "      <td>0</td>\n",
       "      <td>...</td>\n",
       "      <td>0</td>\n",
       "      <td>1</td>\n",
       "      <td>0</td>\n",
       "      <td>0</td>\n",
       "      <td>0</td>\n",
       "      <td>1</td>\n",
       "      <td>0</td>\n",
       "      <td>0</td>\n",
       "      <td>1</td>\n",
       "      <td>0</td>\n",
       "    </tr>\n",
       "    <tr>\n",
       "      <th>1</th>\n",
       "      <td>0</td>\n",
       "      <td>0</td>\n",
       "      <td>1</td>\n",
       "      <td>0</td>\n",
       "      <td>0</td>\n",
       "      <td>0</td>\n",
       "      <td>0</td>\n",
       "      <td>1</td>\n",
       "      <td>1</td>\n",
       "      <td>0</td>\n",
       "      <td>...</td>\n",
       "      <td>0</td>\n",
       "      <td>1</td>\n",
       "      <td>0</td>\n",
       "      <td>0</td>\n",
       "      <td>0</td>\n",
       "      <td>1</td>\n",
       "      <td>0</td>\n",
       "      <td>0</td>\n",
       "      <td>1</td>\n",
       "      <td>0</td>\n",
       "    </tr>\n",
       "    <tr>\n",
       "      <th>2</th>\n",
       "      <td>0</td>\n",
       "      <td>0</td>\n",
       "      <td>1</td>\n",
       "      <td>0</td>\n",
       "      <td>0</td>\n",
       "      <td>0</td>\n",
       "      <td>0</td>\n",
       "      <td>1</td>\n",
       "      <td>1</td>\n",
       "      <td>0</td>\n",
       "      <td>...</td>\n",
       "      <td>0</td>\n",
       "      <td>1</td>\n",
       "      <td>0</td>\n",
       "      <td>0</td>\n",
       "      <td>0</td>\n",
       "      <td>1</td>\n",
       "      <td>0</td>\n",
       "      <td>0</td>\n",
       "      <td>0</td>\n",
       "      <td>1</td>\n",
       "    </tr>\n",
       "    <tr>\n",
       "      <th>3</th>\n",
       "      <td>0</td>\n",
       "      <td>0</td>\n",
       "      <td>1</td>\n",
       "      <td>0</td>\n",
       "      <td>0</td>\n",
       "      <td>0</td>\n",
       "      <td>0</td>\n",
       "      <td>1</td>\n",
       "      <td>0</td>\n",
       "      <td>0</td>\n",
       "      <td>...</td>\n",
       "      <td>0</td>\n",
       "      <td>1</td>\n",
       "      <td>0</td>\n",
       "      <td>0</td>\n",
       "      <td>0</td>\n",
       "      <td>1</td>\n",
       "      <td>0</td>\n",
       "      <td>0</td>\n",
       "      <td>1</td>\n",
       "      <td>0</td>\n",
       "    </tr>\n",
       "    <tr>\n",
       "      <th>4</th>\n",
       "      <td>0</td>\n",
       "      <td>0</td>\n",
       "      <td>1</td>\n",
       "      <td>0</td>\n",
       "      <td>0</td>\n",
       "      <td>0</td>\n",
       "      <td>0</td>\n",
       "      <td>1</td>\n",
       "      <td>0</td>\n",
       "      <td>0</td>\n",
       "      <td>...</td>\n",
       "      <td>0</td>\n",
       "      <td>1</td>\n",
       "      <td>0</td>\n",
       "      <td>0</td>\n",
       "      <td>0</td>\n",
       "      <td>1</td>\n",
       "      <td>0</td>\n",
       "      <td>0</td>\n",
       "      <td>0</td>\n",
       "      <td>1</td>\n",
       "    </tr>\n",
       "  </tbody>\n",
       "</table>\n",
       "<p>5 rows × 32 columns</p>\n",
       "</div>"
      ],
      "text/plain": [
       "   CCARD_CO_BIN_low  CCARD_CO_BIN_medium-low  CCARD_CO_BIN_medium-high  \\\n",
       "0                 0                        0                         1   \n",
       "1                 0                        0                         1   \n",
       "2                 0                        0                         1   \n",
       "3                 0                        0                         1   \n",
       "4                 0                        0                         1   \n",
       "\n",
       "   CCARD_CO_BIN_high  CCARD_DELNQ_BIN_low  CCARD_DELNQ_BIN_medium-low  \\\n",
       "0                  0                    0                           0   \n",
       "1                  0                    0                           0   \n",
       "2                  0                    0                           0   \n",
       "3                  0                    0                           0   \n",
       "4                  0                    0                           0   \n",
       "\n",
       "   CCARD_DELNQ_BIN_medium-high  CCARD_DELNQ_BIN_high  GDP_BIN_low  \\\n",
       "0                            0                     1            1   \n",
       "1                            0                     1            1   \n",
       "2                            0                     1            1   \n",
       "3                            0                     1            0   \n",
       "4                            0                     1            0   \n",
       "\n",
       "   GDP_BIN_medium-low  ...  FEDFUNDS_BIN_medium-high  FEDFUNDS_BIN_high  \\\n",
       "0                   0  ...                         0                  1   \n",
       "1                   0  ...                         0                  1   \n",
       "2                   0  ...                         0                  1   \n",
       "3                   0  ...                         0                  1   \n",
       "4                   0  ...                         0                  1   \n",
       "\n",
       "   SAVINGS_RATE_MO_BIN_low  SAVINGS_RATE_MO_BIN_medium-low  \\\n",
       "0                        0                               0   \n",
       "1                        0                               0   \n",
       "2                        0                               0   \n",
       "3                        0                               0   \n",
       "4                        0                               0   \n",
       "\n",
       "   SAVINGS_RATE_MO_BIN_medium-high  SAVINGS_RATE_MO_BIN_high  UNRATE_BIN_low  \\\n",
       "0                                0                         1               0   \n",
       "1                                0                         1               0   \n",
       "2                                0                         1               0   \n",
       "3                                0                         1               0   \n",
       "4                                0                         1               0   \n",
       "\n",
       "   UNRATE_BIN_medium-low  UNRATE_BIN_medium-high  UNRATE_BIN_high  \n",
       "0                      0                       1                0  \n",
       "1                      0                       1                0  \n",
       "2                      0                       0                1  \n",
       "3                      0                       1                0  \n",
       "4                      0                       0                1  \n",
       "\n",
       "[5 rows x 32 columns]"
      ]
     },
     "execution_count": 11,
     "metadata": {},
     "output_type": "execute_result"
    }
   ],
   "source": [
    "# Turn data into dummies\n",
    "X_bin =pd.get_dummies(X_bin)\n",
    "X = pd.concat([y, X_bin])\n",
    "X"
   ]
  },
  {
   "cell_type": "code",
   "execution_count": 12,
   "id": "0364aca4",
   "metadata": {},
   "outputs": [],
   "source": [
    "# Splitting into Train and Test sets\n",
    "X_train, X_test, y_train, y_test = train_test_split(X_bin, y, random_state=78)"
   ]
  },
  {
   "cell_type": "code",
   "execution_count": 13,
   "id": "d4307b1a",
   "metadata": {},
   "outputs": [],
   "source": [
    "# Creating StandardScaler instance\n",
    "scaler = StandardScaler()\n",
    "\n",
    "# Fitting Standard Scaler\n",
    "X_scaler = scaler.fit(X_train)\n",
    "\n",
    "# Scaling data\n",
    "X_train_scaled = X_scaler.transform(X_train)\n",
    "X_test_scaled = X_scaler.transform(X_test)"
   ]
  },
  {
   "cell_type": "code",
   "execution_count": 14,
   "id": "22bdc017",
   "metadata": {},
   "outputs": [
    {
     "data": {
      "text/plain": [
       "292"
      ]
     },
     "execution_count": 14,
     "metadata": {},
     "output_type": "execute_result"
    }
   ],
   "source": [
    "len(X_train_scaled)"
   ]
  },
  {
   "cell_type": "code",
   "execution_count": 15,
   "id": "d8d83594",
   "metadata": {},
   "outputs": [],
   "source": [
    "# Create a random forest classifier\n",
    "cc_model = RandomForestClassifier(n_estimators=100, random_state=78)"
   ]
  },
  {
   "cell_type": "code",
   "execution_count": 16,
   "id": "cffea43c",
   "metadata": {},
   "outputs": [],
   "source": [
    "# Fitting the model\n",
    "cc_model = cc_model.fit(X_train_scaled, y_train)"
   ]
  },
  {
   "cell_type": "code",
   "execution_count": 17,
   "id": "f7f86105",
   "metadata": {},
   "outputs": [],
   "source": [
    "# Making predictions using the testing data\n",
    "predictions = cc_model.predict(X_test_scaled)"
   ]
  },
  {
   "cell_type": "code",
   "execution_count": 18,
   "id": "6c513dfb",
   "metadata": {},
   "outputs": [],
   "source": [
    "# Calculating the confusion matrix\n",
    "cm = confusion_matrix(y_test, predictions)\n",
    "cm_df = pd.DataFrame(\n",
    "    cm, index=[\"Actual Low\", \"Actual Medium-Low\", \"Actual Medium-High\", \"High\"], columns=[\"Predicted Low\", \"Predicted Medium-Low\", \"Predicted Medium-High\", \"Predicted High\"]\n",
    ")\n",
    "\n",
    "# Calculating the accuracy score\n",
    "acc_score = accuracy_score(y_test, predictions)"
   ]
  },
  {
   "cell_type": "code",
   "execution_count": 19,
   "id": "66aacf24",
   "metadata": {},
   "outputs": [
    {
     "name": "stdout",
     "output_type": "stream",
     "text": [
      "Confusion Matrix\n"
     ]
    },
    {
     "data": {
      "text/html": [
       "<div>\n",
       "<style scoped>\n",
       "    .dataframe tbody tr th:only-of-type {\n",
       "        vertical-align: middle;\n",
       "    }\n",
       "\n",
       "    .dataframe tbody tr th {\n",
       "        vertical-align: top;\n",
       "    }\n",
       "\n",
       "    .dataframe thead th {\n",
       "        text-align: right;\n",
       "    }\n",
       "</style>\n",
       "<table border=\"1\" class=\"dataframe\">\n",
       "  <thead>\n",
       "    <tr style=\"text-align: right;\">\n",
       "      <th></th>\n",
       "      <th>Predicted Low</th>\n",
       "      <th>Predicted Medium-Low</th>\n",
       "      <th>Predicted Medium-High</th>\n",
       "      <th>Predicted High</th>\n",
       "    </tr>\n",
       "  </thead>\n",
       "  <tbody>\n",
       "    <tr>\n",
       "      <th>Actual Low</th>\n",
       "      <td>25</td>\n",
       "      <td>0</td>\n",
       "      <td>0</td>\n",
       "      <td>0</td>\n",
       "    </tr>\n",
       "    <tr>\n",
       "      <th>Actual Medium-Low</th>\n",
       "      <td>0</td>\n",
       "      <td>25</td>\n",
       "      <td>0</td>\n",
       "      <td>0</td>\n",
       "    </tr>\n",
       "    <tr>\n",
       "      <th>Actual Medium-High</th>\n",
       "      <td>0</td>\n",
       "      <td>0</td>\n",
       "      <td>24</td>\n",
       "      <td>0</td>\n",
       "    </tr>\n",
       "    <tr>\n",
       "      <th>High</th>\n",
       "      <td>0</td>\n",
       "      <td>0</td>\n",
       "      <td>0</td>\n",
       "      <td>24</td>\n",
       "    </tr>\n",
       "  </tbody>\n",
       "</table>\n",
       "</div>"
      ],
      "text/plain": [
       "                    Predicted Low  Predicted Medium-Low  \\\n",
       "Actual Low                     25                     0   \n",
       "Actual Medium-Low               0                    25   \n",
       "Actual Medium-High              0                     0   \n",
       "High                            0                     0   \n",
       "\n",
       "                    Predicted Medium-High  Predicted High  \n",
       "Actual Low                              0               0  \n",
       "Actual Medium-Low                       0               0  \n",
       "Actual Medium-High                     24               0  \n",
       "High                                    0              24  "
      ]
     },
     "metadata": {},
     "output_type": "display_data"
    },
    {
     "name": "stdout",
     "output_type": "stream",
     "text": [
      "Accuracy Score : 1.0\n",
      "Classification Report\n",
      "              precision    recall  f1-score   support\n",
      "\n",
      "        high       1.00      1.00      1.00        25\n",
      "         low       1.00      1.00      1.00        25\n",
      " medium-high       1.00      1.00      1.00        24\n",
      "  medium-low       1.00      1.00      1.00        24\n",
      "\n",
      "    accuracy                           1.00        98\n",
      "   macro avg       1.00      1.00      1.00        98\n",
      "weighted avg       1.00      1.00      1.00        98\n",
      "\n"
     ]
    }
   ],
   "source": [
    "# Displaying results\n",
    "print(\"Confusion Matrix\")\n",
    "display(cm_df)\n",
    "print(f\"Accuracy Score : {acc_score}\")\n",
    "print(\"Classification Report\")\n",
    "print(classification_report(y_test, predictions))"
   ]
  },
  {
   "cell_type": "markdown",
   "id": "2ec6be0a",
   "metadata": {},
   "source": [
    "# Part 2: Logistic Regression Model"
   ]
  },
  {
   "cell_type": "code",
   "execution_count": 20,
   "id": "7b28ad72",
   "metadata": {},
   "outputs": [
    {
     "data": {
      "text/html": [
       "<style>#sk-container-id-1 {color: black;}#sk-container-id-1 pre{padding: 0;}#sk-container-id-1 div.sk-toggleable {background-color: white;}#sk-container-id-1 label.sk-toggleable__label {cursor: pointer;display: block;width: 100%;margin-bottom: 0;padding: 0.3em;box-sizing: border-box;text-align: center;}#sk-container-id-1 label.sk-toggleable__label-arrow:before {content: \"▸\";float: left;margin-right: 0.25em;color: #696969;}#sk-container-id-1 label.sk-toggleable__label-arrow:hover:before {color: black;}#sk-container-id-1 div.sk-estimator:hover label.sk-toggleable__label-arrow:before {color: black;}#sk-container-id-1 div.sk-toggleable__content {max-height: 0;max-width: 0;overflow: hidden;text-align: left;background-color: #f0f8ff;}#sk-container-id-1 div.sk-toggleable__content pre {margin: 0.2em;color: black;border-radius: 0.25em;background-color: #f0f8ff;}#sk-container-id-1 input.sk-toggleable__control:checked~div.sk-toggleable__content {max-height: 200px;max-width: 100%;overflow: auto;}#sk-container-id-1 input.sk-toggleable__control:checked~label.sk-toggleable__label-arrow:before {content: \"▾\";}#sk-container-id-1 div.sk-estimator input.sk-toggleable__control:checked~label.sk-toggleable__label {background-color: #d4ebff;}#sk-container-id-1 div.sk-label input.sk-toggleable__control:checked~label.sk-toggleable__label {background-color: #d4ebff;}#sk-container-id-1 input.sk-hidden--visually {border: 0;clip: rect(1px 1px 1px 1px);clip: rect(1px, 1px, 1px, 1px);height: 1px;margin: -1px;overflow: hidden;padding: 0;position: absolute;width: 1px;}#sk-container-id-1 div.sk-estimator {font-family: monospace;background-color: #f0f8ff;border: 1px dotted black;border-radius: 0.25em;box-sizing: border-box;margin-bottom: 0.5em;}#sk-container-id-1 div.sk-estimator:hover {background-color: #d4ebff;}#sk-container-id-1 div.sk-parallel-item::after {content: \"\";width: 100%;border-bottom: 1px solid gray;flex-grow: 1;}#sk-container-id-1 div.sk-label:hover label.sk-toggleable__label {background-color: #d4ebff;}#sk-container-id-1 div.sk-serial::before {content: \"\";position: absolute;border-left: 1px solid gray;box-sizing: border-box;top: 0;bottom: 0;left: 50%;z-index: 0;}#sk-container-id-1 div.sk-serial {display: flex;flex-direction: column;align-items: center;background-color: white;padding-right: 0.2em;padding-left: 0.2em;position: relative;}#sk-container-id-1 div.sk-item {position: relative;z-index: 1;}#sk-container-id-1 div.sk-parallel {display: flex;align-items: stretch;justify-content: center;background-color: white;position: relative;}#sk-container-id-1 div.sk-item::before, #sk-container-id-1 div.sk-parallel-item::before {content: \"\";position: absolute;border-left: 1px solid gray;box-sizing: border-box;top: 0;bottom: 0;left: 50%;z-index: -1;}#sk-container-id-1 div.sk-parallel-item {display: flex;flex-direction: column;z-index: 1;position: relative;background-color: white;}#sk-container-id-1 div.sk-parallel-item:first-child::after {align-self: flex-end;width: 50%;}#sk-container-id-1 div.sk-parallel-item:last-child::after {align-self: flex-start;width: 50%;}#sk-container-id-1 div.sk-parallel-item:only-child::after {width: 0;}#sk-container-id-1 div.sk-dashed-wrapped {border: 1px dashed gray;margin: 0 0.4em 0.5em 0.4em;box-sizing: border-box;padding-bottom: 0.4em;background-color: white;}#sk-container-id-1 div.sk-label label {font-family: monospace;font-weight: bold;display: inline-block;line-height: 1.2em;}#sk-container-id-1 div.sk-label-container {text-align: center;}#sk-container-id-1 div.sk-container {/* jupyter's `normalize.less` sets `[hidden] { display: none; }` but bootstrap.min.css set `[hidden] { display: none !important; }` so we also need the `!important` here to be able to override the default hidden behavior on the sphinx rendered scikit-learn.org. See: https://github.com/scikit-learn/scikit-learn/issues/21755 */display: inline-block !important;position: relative;}#sk-container-id-1 div.sk-text-repr-fallback {display: none;}</style><div id=\"sk-container-id-1\" class=\"sk-top-container\"><div class=\"sk-text-repr-fallback\"><pre>LogisticRegression(random_state=1)</pre><b>In a Jupyter environment, please rerun this cell to show the HTML representation or trust the notebook. <br />On GitHub, the HTML representation is unable to render, please try loading this page with nbviewer.org.</b></div><div class=\"sk-container\" hidden><div class=\"sk-item\"><div class=\"sk-estimator sk-toggleable\"><input class=\"sk-toggleable__control sk-hidden--visually\" id=\"sk-estimator-id-1\" type=\"checkbox\" checked><label for=\"sk-estimator-id-1\" class=\"sk-toggleable__label sk-toggleable__label-arrow\">LogisticRegression</label><div class=\"sk-toggleable__content\"><pre>LogisticRegression(random_state=1)</pre></div></div></div></div></div>"
      ],
      "text/plain": [
       "LogisticRegression(random_state=1)"
      ]
     },
     "execution_count": 20,
     "metadata": {},
     "output_type": "execute_result"
    }
   ],
   "source": [
    "from sklearn.linear_model import LogisticRegression\n",
    "classifier = LogisticRegression(solver='lbfgs', random_state=1)\n",
    "classifier"
   ]
  },
  {
   "cell_type": "code",
   "execution_count": 21,
   "id": "55bd466b",
   "metadata": {},
   "outputs": [
    {
     "data": {
      "text/html": [
       "<style>#sk-container-id-2 {color: black;}#sk-container-id-2 pre{padding: 0;}#sk-container-id-2 div.sk-toggleable {background-color: white;}#sk-container-id-2 label.sk-toggleable__label {cursor: pointer;display: block;width: 100%;margin-bottom: 0;padding: 0.3em;box-sizing: border-box;text-align: center;}#sk-container-id-2 label.sk-toggleable__label-arrow:before {content: \"▸\";float: left;margin-right: 0.25em;color: #696969;}#sk-container-id-2 label.sk-toggleable__label-arrow:hover:before {color: black;}#sk-container-id-2 div.sk-estimator:hover label.sk-toggleable__label-arrow:before {color: black;}#sk-container-id-2 div.sk-toggleable__content {max-height: 0;max-width: 0;overflow: hidden;text-align: left;background-color: #f0f8ff;}#sk-container-id-2 div.sk-toggleable__content pre {margin: 0.2em;color: black;border-radius: 0.25em;background-color: #f0f8ff;}#sk-container-id-2 input.sk-toggleable__control:checked~div.sk-toggleable__content {max-height: 200px;max-width: 100%;overflow: auto;}#sk-container-id-2 input.sk-toggleable__control:checked~label.sk-toggleable__label-arrow:before {content: \"▾\";}#sk-container-id-2 div.sk-estimator input.sk-toggleable__control:checked~label.sk-toggleable__label {background-color: #d4ebff;}#sk-container-id-2 div.sk-label input.sk-toggleable__control:checked~label.sk-toggleable__label {background-color: #d4ebff;}#sk-container-id-2 input.sk-hidden--visually {border: 0;clip: rect(1px 1px 1px 1px);clip: rect(1px, 1px, 1px, 1px);height: 1px;margin: -1px;overflow: hidden;padding: 0;position: absolute;width: 1px;}#sk-container-id-2 div.sk-estimator {font-family: monospace;background-color: #f0f8ff;border: 1px dotted black;border-radius: 0.25em;box-sizing: border-box;margin-bottom: 0.5em;}#sk-container-id-2 div.sk-estimator:hover {background-color: #d4ebff;}#sk-container-id-2 div.sk-parallel-item::after {content: \"\";width: 100%;border-bottom: 1px solid gray;flex-grow: 1;}#sk-container-id-2 div.sk-label:hover label.sk-toggleable__label {background-color: #d4ebff;}#sk-container-id-2 div.sk-serial::before {content: \"\";position: absolute;border-left: 1px solid gray;box-sizing: border-box;top: 0;bottom: 0;left: 50%;z-index: 0;}#sk-container-id-2 div.sk-serial {display: flex;flex-direction: column;align-items: center;background-color: white;padding-right: 0.2em;padding-left: 0.2em;position: relative;}#sk-container-id-2 div.sk-item {position: relative;z-index: 1;}#sk-container-id-2 div.sk-parallel {display: flex;align-items: stretch;justify-content: center;background-color: white;position: relative;}#sk-container-id-2 div.sk-item::before, #sk-container-id-2 div.sk-parallel-item::before {content: \"\";position: absolute;border-left: 1px solid gray;box-sizing: border-box;top: 0;bottom: 0;left: 50%;z-index: -1;}#sk-container-id-2 div.sk-parallel-item {display: flex;flex-direction: column;z-index: 1;position: relative;background-color: white;}#sk-container-id-2 div.sk-parallel-item:first-child::after {align-self: flex-end;width: 50%;}#sk-container-id-2 div.sk-parallel-item:last-child::after {align-self: flex-start;width: 50%;}#sk-container-id-2 div.sk-parallel-item:only-child::after {width: 0;}#sk-container-id-2 div.sk-dashed-wrapped {border: 1px dashed gray;margin: 0 0.4em 0.5em 0.4em;box-sizing: border-box;padding-bottom: 0.4em;background-color: white;}#sk-container-id-2 div.sk-label label {font-family: monospace;font-weight: bold;display: inline-block;line-height: 1.2em;}#sk-container-id-2 div.sk-label-container {text-align: center;}#sk-container-id-2 div.sk-container {/* jupyter's `normalize.less` sets `[hidden] { display: none; }` but bootstrap.min.css set `[hidden] { display: none !important; }` so we also need the `!important` here to be able to override the default hidden behavior on the sphinx rendered scikit-learn.org. See: https://github.com/scikit-learn/scikit-learn/issues/21755 */display: inline-block !important;position: relative;}#sk-container-id-2 div.sk-text-repr-fallback {display: none;}</style><div id=\"sk-container-id-2\" class=\"sk-top-container\"><div class=\"sk-text-repr-fallback\"><pre>LogisticRegression(random_state=1)</pre><b>In a Jupyter environment, please rerun this cell to show the HTML representation or trust the notebook. <br />On GitHub, the HTML representation is unable to render, please try loading this page with nbviewer.org.</b></div><div class=\"sk-container\" hidden><div class=\"sk-item\"><div class=\"sk-estimator sk-toggleable\"><input class=\"sk-toggleable__control sk-hidden--visually\" id=\"sk-estimator-id-2\" type=\"checkbox\" checked><label for=\"sk-estimator-id-2\" class=\"sk-toggleable__label sk-toggleable__label-arrow\">LogisticRegression</label><div class=\"sk-toggleable__content\"><pre>LogisticRegression(random_state=1)</pre></div></div></div></div></div>"
      ],
      "text/plain": [
       "LogisticRegression(random_state=1)"
      ]
     },
     "execution_count": 21,
     "metadata": {},
     "output_type": "execute_result"
    }
   ],
   "source": [
    "# Train the data\n",
    "classifier.fit(X_train, y_train)"
   ]
  },
  {
   "cell_type": "code",
   "execution_count": 22,
   "id": "63be13db",
   "metadata": {},
   "outputs": [
    {
     "data": {
      "text/html": [
       "<div>\n",
       "<style scoped>\n",
       "    .dataframe tbody tr th:only-of-type {\n",
       "        vertical-align: middle;\n",
       "    }\n",
       "\n",
       "    .dataframe tbody tr th {\n",
       "        vertical-align: top;\n",
       "    }\n",
       "\n",
       "    .dataframe thead th {\n",
       "        text-align: right;\n",
       "    }\n",
       "</style>\n",
       "<table border=\"1\" class=\"dataframe\">\n",
       "  <thead>\n",
       "    <tr style=\"text-align: right;\">\n",
       "      <th></th>\n",
       "      <th>Prediction</th>\n",
       "      <th>Actual</th>\n",
       "    </tr>\n",
       "  </thead>\n",
       "  <tbody>\n",
       "    <tr>\n",
       "      <th>384</th>\n",
       "      <td>low</td>\n",
       "      <td>low</td>\n",
       "    </tr>\n",
       "    <tr>\n",
       "      <th>206</th>\n",
       "      <td>medium-high</td>\n",
       "      <td>medium-high</td>\n",
       "    </tr>\n",
       "    <tr>\n",
       "      <th>132</th>\n",
       "      <td>high</td>\n",
       "      <td>high</td>\n",
       "    </tr>\n",
       "    <tr>\n",
       "      <th>226</th>\n",
       "      <td>high</td>\n",
       "      <td>high</td>\n",
       "    </tr>\n",
       "    <tr>\n",
       "      <th>223</th>\n",
       "      <td>high</td>\n",
       "      <td>high</td>\n",
       "    </tr>\n",
       "    <tr>\n",
       "      <th>...</th>\n",
       "      <td>...</td>\n",
       "      <td>...</td>\n",
       "    </tr>\n",
       "    <tr>\n",
       "      <th>300</th>\n",
       "      <td>low</td>\n",
       "      <td>low</td>\n",
       "    </tr>\n",
       "    <tr>\n",
       "      <th>293</th>\n",
       "      <td>low</td>\n",
       "      <td>low</td>\n",
       "    </tr>\n",
       "    <tr>\n",
       "      <th>71</th>\n",
       "      <td>medium-high</td>\n",
       "      <td>medium-high</td>\n",
       "    </tr>\n",
       "    <tr>\n",
       "      <th>370</th>\n",
       "      <td>low</td>\n",
       "      <td>low</td>\n",
       "    </tr>\n",
       "    <tr>\n",
       "      <th>15</th>\n",
       "      <td>medium-high</td>\n",
       "      <td>medium-high</td>\n",
       "    </tr>\n",
       "  </tbody>\n",
       "</table>\n",
       "<p>98 rows × 2 columns</p>\n",
       "</div>"
      ],
      "text/plain": [
       "      Prediction       Actual\n",
       "384          low          low\n",
       "206  medium-high  medium-high\n",
       "132         high         high\n",
       "226         high         high\n",
       "223         high         high\n",
       "..           ...          ...\n",
       "300          low          low\n",
       "293          low          low\n",
       "71   medium-high  medium-high\n",
       "370          low          low\n",
       "15   medium-high  medium-high\n",
       "\n",
       "[98 rows x 2 columns]"
      ]
     },
     "execution_count": 22,
     "metadata": {},
     "output_type": "execute_result"
    }
   ],
   "source": [
    "# Predict outcomes for test data set\n",
    "predictions = classifier.predict(X_test)\n",
    "pd.DataFrame({\"Prediction\": predictions, \"Actual\": y_test})"
   ]
  },
  {
   "cell_type": "code",
   "execution_count": 23,
   "id": "f5a9365f",
   "metadata": {},
   "outputs": [
    {
     "data": {
      "text/plain": [
       "1.0"
      ]
     },
     "execution_count": 23,
     "metadata": {},
     "output_type": "execute_result"
    }
   ],
   "source": [
    "from sklearn.metrics import accuracy_score\n",
    "# Display the accuracy score for the test dataset.\n",
    "accuracy_score(y_test, predictions)"
   ]
  },
  {
   "cell_type": "markdown",
   "id": "994e0b8b",
   "metadata": {},
   "source": [
    "# Part 3: Deep Learning First Attempt "
   ]
  },
  {
   "cell_type": "code",
   "execution_count": 24,
   "id": "0080a6ca",
   "metadata": {},
   "outputs": [
    {
     "data": {
      "text/plain": [
       "Index(['observation_date', 'CCARD_CO', 'CCARD_DELNQ', 'GDP',\n",
       "       'Household_DBT_Inc', 'Consumer_Confidence', 'FEDFUNDS',\n",
       "       'SAVINGS_RATE_MO', 'UNRATE'],\n",
       "      dtype='object')"
      ]
     },
     "execution_count": 24,
     "metadata": {},
     "output_type": "execute_result"
    }
   ],
   "source": [
    "ccard_df.columns"
   ]
  },
  {
   "cell_type": "code",
   "execution_count": 25,
   "id": "770ccf81",
   "metadata": {},
   "outputs": [
    {
     "data": {
      "text/plain": [
       "Index(['CCARD_DELNQ', 'GDP', 'Household_DBT_Inc', 'Consumer_Confidence',\n",
       "       'FEDFUNDS', 'SAVINGS_RATE_MO', 'UNRATE'],\n",
       "      dtype='object')"
      ]
     },
     "execution_count": 25,
     "metadata": {},
     "output_type": "execute_result"
    }
   ],
   "source": [
    "# Seperate the y and X variables\n",
    "# y = ccard_df[\"CCARD_CO\"]\n",
    "# X = ccard_df.drop(columns=[\"CCARD_CO\", \"observation_date\"])\n",
    "# X.columns"
   ]
  },
  {
   "cell_type": "code",
   "execution_count": 26,
   "id": "cb088465",
   "metadata": {},
   "outputs": [],
   "source": [
    "# Splitting into Train and Test sets\n",
    "X_train, X_test, y_train, y_test = train_test_split(X, y, random_state=78)"
   ]
  },
  {
   "cell_type": "code",
   "execution_count": 27,
   "id": "4b4eed1b",
   "metadata": {},
   "outputs": [],
   "source": [
    "# Creating StandardScaler instance\n",
    "scaler = StandardScaler()\n",
    "\n",
    "# Fitting Standard Scaler\n",
    "X_scaler = scaler.fit(X_train)\n",
    "\n",
    "# Scaling data\n",
    "X_train_scaled = X_scaler.transform(X_train)\n",
    "X_test_scaled = X_scaler.transform(X_test)"
   ]
  },
  {
   "cell_type": "code",
   "execution_count": 35,
   "id": "16c2f39f",
   "metadata": {},
   "outputs": [
    {
     "name": "stdout",
     "output_type": "stream",
     "text": [
      "[[-1.11044114 -0.09503839 -1.02558144 ...  0.89583826 -0.44699742\n",
      "  -1.24527544]\n",
      " [ 0.47017089  0.81483737  0.21679844 ...  1.19237309 -0.19544696\n",
      "  -0.10539949]\n",
      " [ 0.75365022 -0.39173701 -0.52701132 ...  0.21152713  0.84219871\n",
      "   0.69251368]\n",
      " ...\n",
      " [ 0.7106988   0.79505747  0.45821952 ...  1.18324894 -0.66710408\n",
      "  -0.96030645]\n",
      " [-0.37167682  0.55769857 -0.49785455 ...  0.64036211  0.4334292\n",
      "   0.1795695 ]\n",
      " [ 0.25541382 -0.03569867  1.67834979 ...  1.20605931 -1.07587359\n",
      "  -0.67533746]]\n"
     ]
    }
   ],
   "source": [
    "print(X_train_scaled)"
   ]
  },
  {
   "cell_type": "code",
   "execution_count": 42,
   "id": "f313603b",
   "metadata": {},
   "outputs": [
    {
     "name": "stdout",
     "output_type": "stream",
     "text": [
      "Model: \"sequential_3\"\n",
      "_________________________________________________________________\n",
      " Layer (type)                Output Shape              Param #   \n",
      "=================================================================\n",
      " dense_12 (Dense)            (None, 100)               800       \n",
      "                                                                 \n",
      " dense_13 (Dense)            (None, 100)               10100     \n",
      "                                                                 \n",
      " dense_14 (Dense)            (None, 100)               10100     \n",
      "                                                                 \n",
      " dense_15 (Dense)            (None, 1)                 101       \n",
      "                                                                 \n",
      "=================================================================\n",
      "Total params: 21101 (82.43 KB)\n",
      "Trainable params: 21101 (82.43 KB)\n",
      "Non-trainable params: 0 (0.00 Byte)\n",
      "_________________________________________________________________\n"
     ]
    }
   ],
   "source": [
    "import tensorflow as tf\n",
    "\n",
    "# Define the model - deep neural net, i.e., the number of input features and hidden nodes for each layer.\n",
    "number_input_features = len(X_train_scaled)\n",
    "hidden_nodes_layers1 = 100\n",
    "hidden_nodes_layers2 = 100\n",
    "hidden_nodes_layers3 = 100\n",
    "\n",
    "nn = tf.keras.models.Sequential()\n",
    "\n",
    "# First hidden layer\n",
    "nn.add(tf.keras.layers.Dense(units=hidden_nodes_layers1, input_dim=7, activation=\"relu\"))\n",
    "\n",
    "# Second hidden layer\n",
    "nn.add(tf.keras.layers.Dense(units=hidden_nodes_layers2, activation=\"relu\"))\n",
    "\n",
    "# Third hidden layer\n",
    "nn.add(tf.keras.layers.Dense(units=hidden_nodes_layers3, activation=\"relu\"))\n",
    "\n",
    "# Output layer\n",
    "nn.add(tf.keras.layers.Dense(units=1, activation=\"sigmoid\"))\n",
    "\n",
    "# Check the structure of the model\n",
    "nn.summary()"
   ]
  },
  {
   "cell_type": "code",
   "execution_count": 43,
   "id": "d7adf687",
   "metadata": {},
   "outputs": [],
   "source": [
    "# Compile the model\n",
    "nn.compile(loss=\"binary_crossentropy\", optimizer=\"adam\", metrics=[\"accuracy\"])"
   ]
  },
  {
   "cell_type": "code",
   "execution_count": 44,
   "id": "f32264e6",
   "metadata": {},
   "outputs": [
    {
     "name": "stdout",
     "output_type": "stream",
     "text": [
      "Epoch 1/100\n",
      "10/10 [==============================] - 0s 730us/step - loss: -0.4348 - accuracy: 0.0000e+00\n",
      "Epoch 2/100\n",
      "10/10 [==============================] - 0s 573us/step - loss: -5.8055 - accuracy: 0.0000e+00\n",
      "Epoch 3/100\n",
      "10/10 [==============================] - 0s 658us/step - loss: -15.5558 - accuracy: 0.0000e+00\n",
      "Epoch 4/100\n",
      "10/10 [==============================] - 0s 592us/step - loss: -36.3000 - accuracy: 0.0000e+00\n",
      "Epoch 5/100\n",
      "10/10 [==============================] - 0s 650us/step - loss: -78.9957 - accuracy: 0.0000e+00\n",
      "Epoch 6/100\n",
      "10/10 [==============================] - 0s 506us/step - loss: -166.1005 - accuracy: 0.0000e+00\n",
      "Epoch 7/100\n",
      "10/10 [==============================] - 0s 658us/step - loss: -312.6646 - accuracy: 0.0000e+00\n",
      "Epoch 8/100\n",
      "10/10 [==============================] - 0s 598us/step - loss: -573.2451 - accuracy: 0.0000e+00\n",
      "Epoch 9/100\n",
      "10/10 [==============================] - 0s 619us/step - loss: -979.7945 - accuracy: 0.0000e+00\n",
      "Epoch 10/100\n",
      "10/10 [==============================] - 0s 777us/step - loss: -1610.5385 - accuracy: 0.0000e+00\n",
      "Epoch 11/100\n",
      "10/10 [==============================] - 0s 572us/step - loss: -2529.0618 - accuracy: 0.0000e+00\n",
      "Epoch 12/100\n",
      "10/10 [==============================] - 0s 823us/step - loss: -3852.6824 - accuracy: 0.0000e+00\n",
      "Epoch 13/100\n",
      "10/10 [==============================] - 0s 792us/step - loss: -5660.5713 - accuracy: 0.0000e+00\n",
      "Epoch 14/100\n",
      "10/10 [==============================] - 0s 645us/step - loss: -8173.7988 - accuracy: 0.0000e+00\n",
      "Epoch 15/100\n",
      "10/10 [==============================] - 0s 708us/step - loss: -11567.7461 - accuracy: 0.0000e+00\n",
      "Epoch 16/100\n",
      "10/10 [==============================] - 0s 717us/step - loss: -15727.7432 - accuracy: 0.0000e+00\n",
      "Epoch 17/100\n",
      "10/10 [==============================] - 0s 622us/step - loss: -21223.1367 - accuracy: 0.0000e+00\n",
      "Epoch 18/100\n",
      "10/10 [==============================] - 0s 785us/step - loss: -28112.8066 - accuracy: 0.0000e+00\n",
      "Epoch 19/100\n",
      "10/10 [==============================] - 0s 574us/step - loss: -36660.6172 - accuracy: 0.0000e+00\n",
      "Epoch 20/100\n",
      "10/10 [==============================] - 0s 659us/step - loss: -47137.0469 - accuracy: 0.0000e+00\n",
      "Epoch 21/100\n",
      "10/10 [==============================] - 0s 700us/step - loss: -59625.9375 - accuracy: 0.0000e+00\n",
      "Epoch 22/100\n",
      "10/10 [==============================] - 0s 735us/step - loss: -74205.1406 - accuracy: 0.0000e+00\n",
      "Epoch 23/100\n",
      "10/10 [==============================] - 0s 558us/step - loss: -92130.1016 - accuracy: 0.0000e+00\n",
      "Epoch 24/100\n",
      "10/10 [==============================] - 0s 712us/step - loss: -112027.3516 - accuracy: 0.0000e+00\n",
      "Epoch 25/100\n",
      "10/10 [==============================] - 0s 578us/step - loss: -136958.9375 - accuracy: 0.0000e+00\n",
      "Epoch 26/100\n",
      "10/10 [==============================] - 0s 669us/step - loss: -165284.0781 - accuracy: 0.0000e+00\n",
      "Epoch 27/100\n",
      "10/10 [==============================] - 0s 613us/step - loss: -197420.4688 - accuracy: 0.0000e+00\n",
      "Epoch 28/100\n",
      "10/10 [==============================] - 0s 679us/step - loss: -234333.5625 - accuracy: 0.0000e+00\n",
      "Epoch 29/100\n",
      "10/10 [==============================] - 0s 610us/step - loss: -275258.5000 - accuracy: 0.0000e+00\n",
      "Epoch 30/100\n",
      "10/10 [==============================] - 0s 636us/step - loss: -321715.0000 - accuracy: 0.0000e+00\n",
      "Epoch 31/100\n",
      "10/10 [==============================] - 0s 607us/step - loss: -374886.3438 - accuracy: 0.0000e+00\n",
      "Epoch 32/100\n",
      "10/10 [==============================] - 0s 609us/step - loss: -433478.3125 - accuracy: 0.0000e+00\n",
      "Epoch 33/100\n",
      "10/10 [==============================] - 0s 617us/step - loss: -498977.6562 - accuracy: 0.0000e+00\n",
      "Epoch 34/100\n",
      "10/10 [==============================] - 0s 643us/step - loss: -570534.4375 - accuracy: 0.0000e+00\n",
      "Epoch 35/100\n",
      "10/10 [==============================] - 0s 706us/step - loss: -647442.7500 - accuracy: 0.0000e+00\n",
      "Epoch 36/100\n",
      "10/10 [==============================] - 0s 581us/step - loss: -735159.1875 - accuracy: 0.0000e+00\n",
      "Epoch 37/100\n",
      "10/10 [==============================] - 0s 728us/step - loss: -832527.6250 - accuracy: 0.0000e+00\n",
      "Epoch 38/100\n",
      "10/10 [==============================] - 0s 577us/step - loss: -943674.6250 - accuracy: 0.0000e+00\n",
      "Epoch 39/100\n",
      "10/10 [==============================] - 0s 757us/step - loss: -1059819.8750 - accuracy: 0.0000e+00\n",
      "Epoch 40/100\n",
      "10/10 [==============================] - 0s 583us/step - loss: -1187424.6250 - accuracy: 0.0000e+00\n",
      "Epoch 41/100\n",
      "10/10 [==============================] - 0s 735us/step - loss: -1329308.3750 - accuracy: 0.0000e+00\n",
      "Epoch 42/100\n",
      "10/10 [==============================] - 0s 581us/step - loss: -1471816.6250 - accuracy: 0.0000e+00\n",
      "Epoch 43/100\n",
      "10/10 [==============================] - 0s 807us/step - loss: -1632449.5000 - accuracy: 0.0000e+00\n",
      "Epoch 44/100\n",
      "10/10 [==============================] - 0s 588us/step - loss: -1806085.0000 - accuracy: 0.0000e+00\n",
      "Epoch 45/100\n",
      "10/10 [==============================] - 0s 722us/step - loss: -1988183.2500 - accuracy: 0.0000e+00\n",
      "Epoch 46/100\n",
      "10/10 [==============================] - 0s 2ms/step - loss: -2182953.7500 - accuracy: 0.0000e+00\n",
      "Epoch 47/100\n",
      "10/10 [==============================] - 0s 682us/step - loss: -2400708.5000 - accuracy: 0.0000e+00\n",
      "Epoch 48/100\n",
      "10/10 [==============================] - 0s 729us/step - loss: -2628014.2500 - accuracy: 0.0000e+00\n",
      "Epoch 49/100\n",
      "10/10 [==============================] - 0s 1ms/step - loss: -2881552.7500 - accuracy: 0.0000e+00\n",
      "Epoch 50/100\n",
      "10/10 [==============================] - 0s 639us/step - loss: -3138221.2500 - accuracy: 0.0000e+00\n",
      "Epoch 51/100\n",
      "10/10 [==============================] - 0s 912us/step - loss: -3427761.0000 - accuracy: 0.0000e+00\n",
      "Epoch 52/100\n",
      "10/10 [==============================] - 0s 577us/step - loss: -3728974.0000 - accuracy: 0.0000e+00\n",
      "Epoch 53/100\n",
      "10/10 [==============================] - 0s 1ms/step - loss: -4051770.7500 - accuracy: 0.0000e+00\n",
      "Epoch 54/100\n",
      "10/10 [==============================] - 0s 704us/step - loss: -4384733.0000 - accuracy: 0.0000e+00\n",
      "Epoch 55/100\n",
      "10/10 [==============================] - 0s 688us/step - loss: -4747268.0000 - accuracy: 0.0000e+00\n",
      "Epoch 56/100\n",
      "10/10 [==============================] - 0s 585us/step - loss: -5126186.5000 - accuracy: 0.0000e+00\n",
      "Epoch 57/100\n",
      "10/10 [==============================] - 0s 863us/step - loss: -5518774.5000 - accuracy: 0.0000e+00\n",
      "Epoch 58/100\n",
      "10/10 [==============================] - 0s 590us/step - loss: -5944658.5000 - accuracy: 0.0000e+00\n",
      "Epoch 59/100\n",
      "10/10 [==============================] - 0s 799us/step - loss: -6391121.5000 - accuracy: 0.0000e+00\n",
      "Epoch 60/100\n",
      "10/10 [==============================] - 0s 766us/step - loss: -6870374.0000 - accuracy: 0.0000e+00\n",
      "Epoch 61/100\n",
      "10/10 [==============================] - 0s 738us/step - loss: -7370669.5000 - accuracy: 0.0000e+00\n",
      "Epoch 62/100\n",
      "10/10 [==============================] - 0s 641us/step - loss: -7887915.0000 - accuracy: 0.0000e+00\n",
      "Epoch 63/100\n",
      "10/10 [==============================] - 0s 793us/step - loss: -8450055.0000 - accuracy: 0.0000e+00\n",
      "Epoch 64/100\n",
      "10/10 [==============================] - 0s 602us/step - loss: -9043254.0000 - accuracy: 0.0000e+00\n",
      "Epoch 65/100\n",
      "10/10 [==============================] - 0s 847us/step - loss: -9633758.0000 - accuracy: 0.0000e+00\n",
      "Epoch 66/100\n",
      "10/10 [==============================] - 0s 686us/step - loss: -10283136.0000 - accuracy: 0.0000e+00\n",
      "Epoch 67/100\n",
      "10/10 [==============================] - 0s 765us/step - loss: -10921099.0000 - accuracy: 0.0000e+00\n",
      "Epoch 68/100\n",
      "10/10 [==============================] - 0s 620us/step - loss: -11601445.0000 - accuracy: 0.0000e+00\n",
      "Epoch 69/100\n",
      "10/10 [==============================] - 0s 843us/step - loss: -12302859.0000 - accuracy: 0.0000e+00\n",
      "Epoch 70/100\n",
      "10/10 [==============================] - 0s 744us/step - loss: -13014879.0000 - accuracy: 0.0000e+00\n",
      "Epoch 71/100\n",
      "10/10 [==============================] - 0s 680us/step - loss: -13766228.0000 - accuracy: 0.0000e+00\n",
      "Epoch 72/100\n",
      "10/10 [==============================] - 0s 911us/step - loss: -14531609.0000 - accuracy: 0.0000e+00\n",
      "Epoch 73/100\n",
      "10/10 [==============================] - 0s 584us/step - loss: -15395973.0000 - accuracy: 0.0000e+00\n",
      "Epoch 74/100\n"
     ]
    },
    {
     "name": "stdout",
     "output_type": "stream",
     "text": [
      "10/10 [==============================] - 0s 581us/step - loss: -16248664.0000 - accuracy: 0.0000e+00\n",
      "Epoch 75/100\n",
      "10/10 [==============================] - 0s 663us/step - loss: -17153126.0000 - accuracy: 0.0000e+00\n",
      "Epoch 76/100\n",
      "10/10 [==============================] - 0s 580us/step - loss: -18143448.0000 - accuracy: 0.0000e+00\n",
      "Epoch 77/100\n",
      "10/10 [==============================] - 0s 807us/step - loss: -19106906.0000 - accuracy: 0.0000e+00\n",
      "Epoch 78/100\n",
      "10/10 [==============================] - 0s 617us/step - loss: -20142146.0000 - accuracy: 0.0000e+00\n",
      "Epoch 79/100\n",
      "10/10 [==============================] - 0s 698us/step - loss: -21209324.0000 - accuracy: 0.0000e+00\n",
      "Epoch 80/100\n",
      "10/10 [==============================] - 0s 578us/step - loss: -22248494.0000 - accuracy: 0.0000e+00\n",
      "Epoch 81/100\n",
      "10/10 [==============================] - 0s 990us/step - loss: -23405508.0000 - accuracy: 0.0000e+00\n",
      "Epoch 82/100\n",
      "10/10 [==============================] - 0s 723us/step - loss: -24642306.0000 - accuracy: 0.0000e+00\n",
      "Epoch 83/100\n",
      "10/10 [==============================] - 0s 711us/step - loss: -25903658.0000 - accuracy: 0.0000e+00\n",
      "Epoch 84/100\n",
      "10/10 [==============================] - 0s 604us/step - loss: -27209806.0000 - accuracy: 0.0000e+00\n",
      "Epoch 85/100\n",
      "10/10 [==============================] - 0s 771us/step - loss: -28576250.0000 - accuracy: 0.0000e+00\n",
      "Epoch 86/100\n",
      "10/10 [==============================] - 0s 625us/step - loss: -29922044.0000 - accuracy: 0.0000e+00\n",
      "Epoch 87/100\n",
      "10/10 [==============================] - 0s 778us/step - loss: -31269446.0000 - accuracy: 0.0000e+00\n",
      "Epoch 88/100\n",
      "10/10 [==============================] - 0s 569us/step - loss: -32689230.0000 - accuracy: 0.0000e+00\n",
      "Epoch 89/100\n",
      "10/10 [==============================] - 0s 802us/step - loss: -34156208.0000 - accuracy: 0.0000e+00\n",
      "Epoch 90/100\n",
      "10/10 [==============================] - 0s 576us/step - loss: -35713684.0000 - accuracy: 0.0000e+00\n",
      "Epoch 91/100\n",
      "10/10 [==============================] - 0s 800us/step - loss: -37321376.0000 - accuracy: 0.0000e+00\n",
      "Epoch 92/100\n",
      "10/10 [==============================] - 0s 590us/step - loss: -39042496.0000 - accuracy: 0.0000e+00\n",
      "Epoch 93/100\n",
      "10/10 [==============================] - 0s 894us/step - loss: -40731808.0000 - accuracy: 0.0000e+00\n",
      "Epoch 94/100\n",
      "10/10 [==============================] - 0s 609us/step - loss: -42538884.0000 - accuracy: 0.0000e+00\n",
      "Epoch 95/100\n",
      "10/10 [==============================] - 0s 822us/step - loss: -44316348.0000 - accuracy: 0.0000e+00\n",
      "Epoch 96/100\n",
      "10/10 [==============================] - 0s 1ms/step - loss: -46267992.0000 - accuracy: 0.0000e+00\n",
      "Epoch 97/100\n",
      "10/10 [==============================] - 0s 725us/step - loss: -48184444.0000 - accuracy: 0.0000e+00\n",
      "Epoch 98/100\n",
      "10/10 [==============================] - 0s 572us/step - loss: -50192844.0000 - accuracy: 0.0000e+00\n",
      "Epoch 99/100\n",
      "10/10 [==============================] - 0s 703us/step - loss: -52220436.0000 - accuracy: 0.0000e+00\n",
      "Epoch 100/100\n",
      "10/10 [==============================] - 0s 601us/step - loss: -54318296.0000 - accuracy: 0.0000e+00\n"
     ]
    }
   ],
   "source": [
    "# Train the model\n",
    "fit_nn = nn.fit(X_train_scaled, y_train, epochs=100)"
   ]
  },
  {
   "cell_type": "markdown",
   "id": "be488e07",
   "metadata": {},
   "source": [
    "# Deep Learning Second Attempt"
   ]
  },
  {
   "cell_type": "code",
   "execution_count": 45,
   "id": "d2d35b04",
   "metadata": {},
   "outputs": [
    {
     "data": {
      "text/plain": [
       "Index(['CCARD_CO_BIN', 'CCARD_DELNQ_BIN', 'GDP_BIN', 'Household_DBT_Inc_BIN',\n",
       "       'Consumer_Confidence_BIN', 'FEDFUNDS_BIN', 'SAVINGS_RATE_MO_BIN',\n",
       "       'UNRATE_BIN'],\n",
       "      dtype='object')"
      ]
     },
     "execution_count": 45,
     "metadata": {},
     "output_type": "execute_result"
    }
   ],
   "source": [
    "# Seperate the y and X variables\n",
    "y = ccard_bin_df[\"CCARD_CO_BIN\"]\n",
    "X = ccard_bin_df.drop(columns=[\"CCARD_CO\", \"observation_date\", \"CCARD_DELNQ\", \"GDP\", \"Household_DBT_Inc\", \"Consumer_Confidence\", \"FEDFUNDS\", \"SAVINGS_RATE_MO\", \"UNRATE\"])\n",
    "X.columns"
   ]
  },
  {
   "cell_type": "code",
   "execution_count": 46,
   "id": "b5e06d64",
   "metadata": {},
   "outputs": [
    {
     "data": {
      "text/html": [
       "<div>\n",
       "<style scoped>\n",
       "    .dataframe tbody tr th:only-of-type {\n",
       "        vertical-align: middle;\n",
       "    }\n",
       "\n",
       "    .dataframe tbody tr th {\n",
       "        vertical-align: top;\n",
       "    }\n",
       "\n",
       "    .dataframe thead th {\n",
       "        text-align: right;\n",
       "    }\n",
       "</style>\n",
       "<table border=\"1\" class=\"dataframe\">\n",
       "  <thead>\n",
       "    <tr style=\"text-align: right;\">\n",
       "      <th></th>\n",
       "      <th>CCARD_CO_BIN_low</th>\n",
       "      <th>CCARD_CO_BIN_medium-low</th>\n",
       "      <th>CCARD_CO_BIN_medium-high</th>\n",
       "      <th>CCARD_CO_BIN_high</th>\n",
       "      <th>CCARD_DELNQ_BIN_low</th>\n",
       "      <th>CCARD_DELNQ_BIN_medium-low</th>\n",
       "      <th>CCARD_DELNQ_BIN_medium-high</th>\n",
       "      <th>CCARD_DELNQ_BIN_high</th>\n",
       "      <th>GDP_BIN_low</th>\n",
       "      <th>GDP_BIN_medium-low</th>\n",
       "      <th>...</th>\n",
       "      <th>FEDFUNDS_BIN_medium-high</th>\n",
       "      <th>FEDFUNDS_BIN_high</th>\n",
       "      <th>SAVINGS_RATE_MO_BIN_low</th>\n",
       "      <th>SAVINGS_RATE_MO_BIN_medium-low</th>\n",
       "      <th>SAVINGS_RATE_MO_BIN_medium-high</th>\n",
       "      <th>SAVINGS_RATE_MO_BIN_high</th>\n",
       "      <th>UNRATE_BIN_low</th>\n",
       "      <th>UNRATE_BIN_medium-low</th>\n",
       "      <th>UNRATE_BIN_medium-high</th>\n",
       "      <th>UNRATE_BIN_high</th>\n",
       "    </tr>\n",
       "  </thead>\n",
       "  <tbody>\n",
       "    <tr>\n",
       "      <th>0</th>\n",
       "      <td>0</td>\n",
       "      <td>0</td>\n",
       "      <td>1</td>\n",
       "      <td>0</td>\n",
       "      <td>0</td>\n",
       "      <td>0</td>\n",
       "      <td>0</td>\n",
       "      <td>1</td>\n",
       "      <td>1</td>\n",
       "      <td>0</td>\n",
       "      <td>...</td>\n",
       "      <td>0</td>\n",
       "      <td>1</td>\n",
       "      <td>0</td>\n",
       "      <td>0</td>\n",
       "      <td>0</td>\n",
       "      <td>1</td>\n",
       "      <td>0</td>\n",
       "      <td>0</td>\n",
       "      <td>1</td>\n",
       "      <td>0</td>\n",
       "    </tr>\n",
       "    <tr>\n",
       "      <th>1</th>\n",
       "      <td>0</td>\n",
       "      <td>0</td>\n",
       "      <td>1</td>\n",
       "      <td>0</td>\n",
       "      <td>0</td>\n",
       "      <td>0</td>\n",
       "      <td>0</td>\n",
       "      <td>1</td>\n",
       "      <td>1</td>\n",
       "      <td>0</td>\n",
       "      <td>...</td>\n",
       "      <td>0</td>\n",
       "      <td>1</td>\n",
       "      <td>0</td>\n",
       "      <td>0</td>\n",
       "      <td>0</td>\n",
       "      <td>1</td>\n",
       "      <td>0</td>\n",
       "      <td>0</td>\n",
       "      <td>1</td>\n",
       "      <td>0</td>\n",
       "    </tr>\n",
       "    <tr>\n",
       "      <th>2</th>\n",
       "      <td>0</td>\n",
       "      <td>0</td>\n",
       "      <td>1</td>\n",
       "      <td>0</td>\n",
       "      <td>0</td>\n",
       "      <td>0</td>\n",
       "      <td>0</td>\n",
       "      <td>1</td>\n",
       "      <td>1</td>\n",
       "      <td>0</td>\n",
       "      <td>...</td>\n",
       "      <td>0</td>\n",
       "      <td>1</td>\n",
       "      <td>0</td>\n",
       "      <td>0</td>\n",
       "      <td>0</td>\n",
       "      <td>1</td>\n",
       "      <td>0</td>\n",
       "      <td>0</td>\n",
       "      <td>0</td>\n",
       "      <td>1</td>\n",
       "    </tr>\n",
       "    <tr>\n",
       "      <th>3</th>\n",
       "      <td>0</td>\n",
       "      <td>0</td>\n",
       "      <td>1</td>\n",
       "      <td>0</td>\n",
       "      <td>0</td>\n",
       "      <td>0</td>\n",
       "      <td>0</td>\n",
       "      <td>1</td>\n",
       "      <td>0</td>\n",
       "      <td>0</td>\n",
       "      <td>...</td>\n",
       "      <td>0</td>\n",
       "      <td>1</td>\n",
       "      <td>0</td>\n",
       "      <td>0</td>\n",
       "      <td>0</td>\n",
       "      <td>1</td>\n",
       "      <td>0</td>\n",
       "      <td>0</td>\n",
       "      <td>1</td>\n",
       "      <td>0</td>\n",
       "    </tr>\n",
       "    <tr>\n",
       "      <th>4</th>\n",
       "      <td>0</td>\n",
       "      <td>0</td>\n",
       "      <td>1</td>\n",
       "      <td>0</td>\n",
       "      <td>0</td>\n",
       "      <td>0</td>\n",
       "      <td>0</td>\n",
       "      <td>1</td>\n",
       "      <td>0</td>\n",
       "      <td>0</td>\n",
       "      <td>...</td>\n",
       "      <td>0</td>\n",
       "      <td>1</td>\n",
       "      <td>0</td>\n",
       "      <td>0</td>\n",
       "      <td>0</td>\n",
       "      <td>1</td>\n",
       "      <td>0</td>\n",
       "      <td>0</td>\n",
       "      <td>0</td>\n",
       "      <td>1</td>\n",
       "    </tr>\n",
       "  </tbody>\n",
       "</table>\n",
       "<p>5 rows × 32 columns</p>\n",
       "</div>"
      ],
      "text/plain": [
       "   CCARD_CO_BIN_low  CCARD_CO_BIN_medium-low  CCARD_CO_BIN_medium-high  \\\n",
       "0                 0                        0                         1   \n",
       "1                 0                        0                         1   \n",
       "2                 0                        0                         1   \n",
       "3                 0                        0                         1   \n",
       "4                 0                        0                         1   \n",
       "\n",
       "   CCARD_CO_BIN_high  CCARD_DELNQ_BIN_low  CCARD_DELNQ_BIN_medium-low  \\\n",
       "0                  0                    0                           0   \n",
       "1                  0                    0                           0   \n",
       "2                  0                    0                           0   \n",
       "3                  0                    0                           0   \n",
       "4                  0                    0                           0   \n",
       "\n",
       "   CCARD_DELNQ_BIN_medium-high  CCARD_DELNQ_BIN_high  GDP_BIN_low  \\\n",
       "0                            0                     1            1   \n",
       "1                            0                     1            1   \n",
       "2                            0                     1            1   \n",
       "3                            0                     1            0   \n",
       "4                            0                     1            0   \n",
       "\n",
       "   GDP_BIN_medium-low  ...  FEDFUNDS_BIN_medium-high  FEDFUNDS_BIN_high  \\\n",
       "0                   0  ...                         0                  1   \n",
       "1                   0  ...                         0                  1   \n",
       "2                   0  ...                         0                  1   \n",
       "3                   0  ...                         0                  1   \n",
       "4                   0  ...                         0                  1   \n",
       "\n",
       "   SAVINGS_RATE_MO_BIN_low  SAVINGS_RATE_MO_BIN_medium-low  \\\n",
       "0                        0                               0   \n",
       "1                        0                               0   \n",
       "2                        0                               0   \n",
       "3                        0                               0   \n",
       "4                        0                               0   \n",
       "\n",
       "   SAVINGS_RATE_MO_BIN_medium-high  SAVINGS_RATE_MO_BIN_high  UNRATE_BIN_low  \\\n",
       "0                                0                         1               0   \n",
       "1                                0                         1               0   \n",
       "2                                0                         1               0   \n",
       "3                                0                         1               0   \n",
       "4                                0                         1               0   \n",
       "\n",
       "   UNRATE_BIN_medium-low  UNRATE_BIN_medium-high  UNRATE_BIN_high  \n",
       "0                      0                       1                0  \n",
       "1                      0                       1                0  \n",
       "2                      0                       0                1  \n",
       "3                      0                       1                0  \n",
       "4                      0                       0                1  \n",
       "\n",
       "[5 rows x 32 columns]"
      ]
     },
     "execution_count": 46,
     "metadata": {},
     "output_type": "execute_result"
    }
   ],
   "source": [
    "# Turn data into dummies\n",
    "X=pd.get_dummies(X)\n",
    "\n",
    "X.head()"
   ]
  },
  {
   "cell_type": "code",
   "execution_count": 56,
   "id": "86865ac9",
   "metadata": {},
   "outputs": [],
   "source": [
    "# Splitting into Train and Test sets\n",
    "X_train, X_test, y_train, y_test = train_test_split(X, y, random_state=78)"
   ]
  },
  {
   "cell_type": "code",
   "execution_count": 57,
   "id": "45f57402",
   "metadata": {},
   "outputs": [],
   "source": [
    "# Creating StandardScaler instance\n",
    "scaler = StandardScaler()\n",
    "\n",
    "# Fitting Standard Scaler\n",
    "X_scaler = scaler.fit(X_train)\n",
    "\n",
    "# Scaling data\n",
    "X_train_scaled = X_scaler.transform(X_train)\n",
    "X_test_scaled = X_scaler.transform(X_test)"
   ]
  },
  {
   "cell_type": "code",
   "execution_count": null,
   "id": "d4b4c0b1",
   "metadata": {},
   "outputs": [],
   "source": []
  },
  {
   "cell_type": "code",
   "execution_count": 58,
   "id": "ed793fb2",
   "metadata": {},
   "outputs": [
    {
     "name": "stdout",
     "output_type": "stream",
     "text": [
      "[[ 1.71637582 -0.57207755 -0.58789635 ... -0.57735027 -0.59317101\n",
      "  -0.56152944]\n",
      " [-0.58262298 -0.57207755  1.70098011 ... -0.57735027  1.68585446\n",
      "  -0.56152944]\n",
      " [-0.58262298  1.74801475 -0.58789635 ... -0.57735027 -0.59317101\n",
      "   1.78085052]\n",
      " ...\n",
      " [-0.58262298 -0.57207755  1.70098011 ... -0.57735027 -0.59317101\n",
      "  -0.56152944]\n",
      " [ 1.71637582 -0.57207755 -0.58789635 ... -0.57735027  1.68585446\n",
      "  -0.56152944]\n",
      " [-0.58262298  1.74801475 -0.58789635 ...  1.73205081 -0.59317101\n",
      "  -0.56152944]]\n"
     ]
    }
   ],
   "source": [
    "print(X_train_scaled)"
   ]
  },
  {
   "cell_type": "code",
   "execution_count": 62,
   "id": "c12a0d9f",
   "metadata": {},
   "outputs": [
    {
     "data": {
      "text/plain": [
       "dtype('float64')"
      ]
     },
     "execution_count": 62,
     "metadata": {},
     "output_type": "execute_result"
    }
   ],
   "source": [
    "X_train_scaled.dtype"
   ]
  },
  {
   "cell_type": "code",
   "execution_count": 52,
   "id": "afa24ae8",
   "metadata": {},
   "outputs": [
    {
     "name": "stdout",
     "output_type": "stream",
     "text": [
      "Model: \"sequential_5\"\n",
      "_________________________________________________________________\n",
      " Layer (type)                Output Shape              Param #   \n",
      "=================================================================\n",
      " dense_20 (Dense)            (None, 100)               3300      \n",
      "                                                                 \n",
      " dense_21 (Dense)            (None, 100)               10100     \n",
      "                                                                 \n",
      " dense_22 (Dense)            (None, 100)               10100     \n",
      "                                                                 \n",
      " dense_23 (Dense)            (None, 1)                 101       \n",
      "                                                                 \n",
      "=================================================================\n",
      "Total params: 23601 (92.19 KB)\n",
      "Trainable params: 23601 (92.19 KB)\n",
      "Non-trainable params: 0 (0.00 Byte)\n",
      "_________________________________________________________________\n"
     ]
    }
   ],
   "source": [
    "import tensorflow as tf\n",
    "\n",
    "# Define the model - deep neural net, i.e., the number of input features and hidden nodes for each layer.\n",
    "number_input_features = len(X_train_scaled)\n",
    "hidden_nodes_layers1 = 100\n",
    "hidden_nodes_layers2 = 100\n",
    "hidden_nodes_layers3 = 100\n",
    "\n",
    "nn = tf.keras.models.Sequential()\n",
    "\n",
    "# First hidden layer\n",
    "nn.add(tf.keras.layers.Dense(units=hidden_nodes_layers1, input_dim=32, activation=\"relu\"))\n",
    "\n",
    "# Second hidden layer\n",
    "nn.add(tf.keras.layers.Dense(units=hidden_nodes_layers2, activation=\"relu\"))\n",
    "\n",
    "# Third hidden layer\n",
    "nn.add(tf.keras.layers.Dense(units=hidden_nodes_layers3, activation=\"relu\"))\n",
    "\n",
    "# Output layer\n",
    "nn.add(tf.keras.layers.Dense(units=1, activation=\"sigmoid\"))\n",
    "\n",
    "# Check the structure of the model\n",
    "nn.summary()"
   ]
  },
  {
   "cell_type": "code",
   "execution_count": 53,
   "id": "7235c6a0",
   "metadata": {},
   "outputs": [],
   "source": [
    "# Compile the model\n",
    "nn.compile(loss=\"binary_crossentropy\", optimizer=\"adam\", metrics=[\"accuracy\"])"
   ]
  },
  {
   "cell_type": "code",
   "execution_count": 54,
   "id": "7444e524",
   "metadata": {},
   "outputs": [
    {
     "name": "stdout",
     "output_type": "stream",
     "text": [
      "Epoch 1/100\n"
     ]
    },
    {
     "name": "stderr",
     "output_type": "stream",
     "text": [
      "2023-11-10 16:35:17.521123: W tensorflow/core/framework/op_kernel.cc:1816] OP_REQUIRES failed at cast_op.cc:121 : UNIMPLEMENTED: Cast string to float is not supported\n"
     ]
    },
    {
     "ename": "UnimplementedError",
     "evalue": "Graph execution error:\n\nDetected at node binary_crossentropy/Cast defined at (most recent call last):\n  File \"/Users/ryak/anaconda3/envs/dev/lib/python3.10/runpy.py\", line 196, in _run_module_as_main\n\n  File \"/Users/ryak/anaconda3/envs/dev/lib/python3.10/runpy.py\", line 86, in _run_code\n\n  File \"/Users/ryak/anaconda3/envs/dev/lib/python3.10/site-packages/ipykernel_launcher.py\", line 17, in <module>\n\n  File \"/Users/ryak/anaconda3/envs/dev/lib/python3.10/site-packages/traitlets/config/application.py\", line 992, in launch_instance\n\n  File \"/Users/ryak/anaconda3/envs/dev/lib/python3.10/site-packages/ipykernel/kernelapp.py\", line 711, in start\n\n  File \"/Users/ryak/anaconda3/envs/dev/lib/python3.10/site-packages/tornado/platform/asyncio.py\", line 215, in start\n\n  File \"/Users/ryak/anaconda3/envs/dev/lib/python3.10/asyncio/base_events.py\", line 603, in run_forever\n\n  File \"/Users/ryak/anaconda3/envs/dev/lib/python3.10/asyncio/base_events.py\", line 1909, in _run_once\n\n  File \"/Users/ryak/anaconda3/envs/dev/lib/python3.10/asyncio/events.py\", line 80, in _run\n\n  File \"/Users/ryak/anaconda3/envs/dev/lib/python3.10/site-packages/ipykernel/kernelbase.py\", line 510, in dispatch_queue\n\n  File \"/Users/ryak/anaconda3/envs/dev/lib/python3.10/site-packages/ipykernel/kernelbase.py\", line 499, in process_one\n\n  File \"/Users/ryak/anaconda3/envs/dev/lib/python3.10/site-packages/ipykernel/kernelbase.py\", line 406, in dispatch_shell\n\n  File \"/Users/ryak/anaconda3/envs/dev/lib/python3.10/site-packages/ipykernel/kernelbase.py\", line 729, in execute_request\n\n  File \"/Users/ryak/anaconda3/envs/dev/lib/python3.10/site-packages/ipykernel/ipkernel.py\", line 411, in do_execute\n\n  File \"/Users/ryak/anaconda3/envs/dev/lib/python3.10/site-packages/ipykernel/zmqshell.py\", line 531, in run_cell\n\n  File \"/Users/ryak/anaconda3/envs/dev/lib/python3.10/site-packages/IPython/core/interactiveshell.py\", line 3006, in run_cell\n\n  File \"/Users/ryak/anaconda3/envs/dev/lib/python3.10/site-packages/IPython/core/interactiveshell.py\", line 3061, in _run_cell\n\n  File \"/Users/ryak/anaconda3/envs/dev/lib/python3.10/site-packages/IPython/core/async_helpers.py\", line 129, in _pseudo_sync_runner\n\n  File \"/Users/ryak/anaconda3/envs/dev/lib/python3.10/site-packages/IPython/core/interactiveshell.py\", line 3266, in run_cell_async\n\n  File \"/Users/ryak/anaconda3/envs/dev/lib/python3.10/site-packages/IPython/core/interactiveshell.py\", line 3445, in run_ast_nodes\n\n  File \"/Users/ryak/anaconda3/envs/dev/lib/python3.10/site-packages/IPython/core/interactiveshell.py\", line 3505, in run_code\n\n  File \"/var/folders/pr/r9s7fv8d3hl7zl078q3rzs_00000gn/T/ipykernel_16985/4073658168.py\", line 2, in <module>\n\n  File \"/Users/ryak/anaconda3/envs/dev/lib/python3.10/site-packages/keras/src/utils/traceback_utils.py\", line 65, in error_handler\n\n  File \"/Users/ryak/anaconda3/envs/dev/lib/python3.10/site-packages/keras/src/engine/training.py\", line 1783, in fit\n\n  File \"/Users/ryak/anaconda3/envs/dev/lib/python3.10/site-packages/keras/src/engine/training.py\", line 1377, in train_function\n\n  File \"/Users/ryak/anaconda3/envs/dev/lib/python3.10/site-packages/keras/src/engine/training.py\", line 1360, in step_function\n\n  File \"/Users/ryak/anaconda3/envs/dev/lib/python3.10/site-packages/keras/src/engine/training.py\", line 1349, in run_step\n\n  File \"/Users/ryak/anaconda3/envs/dev/lib/python3.10/site-packages/keras/src/engine/training.py\", line 1127, in train_step\n\n  File \"/Users/ryak/anaconda3/envs/dev/lib/python3.10/site-packages/keras/src/engine/training.py\", line 1185, in compute_loss\n\n  File \"/Users/ryak/anaconda3/envs/dev/lib/python3.10/site-packages/keras/src/engine/compile_utils.py\", line 277, in __call__\n\n  File \"/Users/ryak/anaconda3/envs/dev/lib/python3.10/site-packages/keras/src/losses.py\", line 143, in __call__\n\n  File \"/Users/ryak/anaconda3/envs/dev/lib/python3.10/site-packages/keras/src/losses.py\", line 270, in call\n\n  File \"/Users/ryak/anaconda3/envs/dev/lib/python3.10/site-packages/keras/src/losses.py\", line 2521, in binary_crossentropy\n\nCast string to float is not supported\n\t [[{{node binary_crossentropy/Cast}}]] [Op:__inference_train_function_13618]",
     "output_type": "error",
     "traceback": [
      "\u001b[0;31m---------------------------------------------------------------------------\u001b[0m",
      "\u001b[0;31mUnimplementedError\u001b[0m                        Traceback (most recent call last)",
      "Cell \u001b[0;32mIn[54], line 2\u001b[0m\n\u001b[1;32m      1\u001b[0m \u001b[38;5;66;03m# Train the model\u001b[39;00m\n\u001b[0;32m----> 2\u001b[0m fit_nn \u001b[38;5;241m=\u001b[39m \u001b[43mnn\u001b[49m\u001b[38;5;241;43m.\u001b[39;49m\u001b[43mfit\u001b[49m\u001b[43m(\u001b[49m\u001b[43mX_train_scaled\u001b[49m\u001b[43m,\u001b[49m\u001b[43m \u001b[49m\u001b[43my_train\u001b[49m\u001b[43m,\u001b[49m\u001b[43m \u001b[49m\u001b[43mepochs\u001b[49m\u001b[38;5;241;43m=\u001b[39;49m\u001b[38;5;241;43m100\u001b[39;49m\u001b[43m)\u001b[49m\n",
      "File \u001b[0;32m~/anaconda3/envs/dev/lib/python3.10/site-packages/keras/src/utils/traceback_utils.py:70\u001b[0m, in \u001b[0;36mfilter_traceback.<locals>.error_handler\u001b[0;34m(*args, **kwargs)\u001b[0m\n\u001b[1;32m     67\u001b[0m     filtered_tb \u001b[38;5;241m=\u001b[39m _process_traceback_frames(e\u001b[38;5;241m.\u001b[39m__traceback__)\n\u001b[1;32m     68\u001b[0m     \u001b[38;5;66;03m# To get the full stack trace, call:\u001b[39;00m\n\u001b[1;32m     69\u001b[0m     \u001b[38;5;66;03m# `tf.debugging.disable_traceback_filtering()`\u001b[39;00m\n\u001b[0;32m---> 70\u001b[0m     \u001b[38;5;28;01mraise\u001b[39;00m e\u001b[38;5;241m.\u001b[39mwith_traceback(filtered_tb) \u001b[38;5;28;01mfrom\u001b[39;00m \u001b[38;5;28;01mNone\u001b[39;00m\n\u001b[1;32m     71\u001b[0m \u001b[38;5;28;01mfinally\u001b[39;00m:\n\u001b[1;32m     72\u001b[0m     \u001b[38;5;28;01mdel\u001b[39;00m filtered_tb\n",
      "File \u001b[0;32m~/anaconda3/envs/dev/lib/python3.10/site-packages/tensorflow/python/eager/execute.py:60\u001b[0m, in \u001b[0;36mquick_execute\u001b[0;34m(op_name, num_outputs, inputs, attrs, ctx, name)\u001b[0m\n\u001b[1;32m     53\u001b[0m   \u001b[38;5;66;03m# Convert any objects of type core_types.Tensor to Tensor.\u001b[39;00m\n\u001b[1;32m     54\u001b[0m   inputs \u001b[38;5;241m=\u001b[39m [\n\u001b[1;32m     55\u001b[0m       tensor_conversion_registry\u001b[38;5;241m.\u001b[39mconvert(t)\n\u001b[1;32m     56\u001b[0m       \u001b[38;5;28;01mif\u001b[39;00m \u001b[38;5;28misinstance\u001b[39m(t, core_types\u001b[38;5;241m.\u001b[39mTensor)\n\u001b[1;32m     57\u001b[0m       \u001b[38;5;28;01melse\u001b[39;00m t\n\u001b[1;32m     58\u001b[0m       \u001b[38;5;28;01mfor\u001b[39;00m t \u001b[38;5;129;01min\u001b[39;00m inputs\n\u001b[1;32m     59\u001b[0m   ]\n\u001b[0;32m---> 60\u001b[0m   tensors \u001b[38;5;241m=\u001b[39m pywrap_tfe\u001b[38;5;241m.\u001b[39mTFE_Py_Execute(ctx\u001b[38;5;241m.\u001b[39m_handle, device_name, op_name,\n\u001b[1;32m     61\u001b[0m                                       inputs, attrs, num_outputs)\n\u001b[1;32m     62\u001b[0m \u001b[38;5;28;01mexcept\u001b[39;00m core\u001b[38;5;241m.\u001b[39m_NotOkStatusException \u001b[38;5;28;01mas\u001b[39;00m e:\n\u001b[1;32m     63\u001b[0m   \u001b[38;5;28;01mif\u001b[39;00m name \u001b[38;5;129;01mis\u001b[39;00m \u001b[38;5;129;01mnot\u001b[39;00m \u001b[38;5;28;01mNone\u001b[39;00m:\n",
      "\u001b[0;31mUnimplementedError\u001b[0m: Graph execution error:\n\nDetected at node binary_crossentropy/Cast defined at (most recent call last):\n  File \"/Users/ryak/anaconda3/envs/dev/lib/python3.10/runpy.py\", line 196, in _run_module_as_main\n\n  File \"/Users/ryak/anaconda3/envs/dev/lib/python3.10/runpy.py\", line 86, in _run_code\n\n  File \"/Users/ryak/anaconda3/envs/dev/lib/python3.10/site-packages/ipykernel_launcher.py\", line 17, in <module>\n\n  File \"/Users/ryak/anaconda3/envs/dev/lib/python3.10/site-packages/traitlets/config/application.py\", line 992, in launch_instance\n\n  File \"/Users/ryak/anaconda3/envs/dev/lib/python3.10/site-packages/ipykernel/kernelapp.py\", line 711, in start\n\n  File \"/Users/ryak/anaconda3/envs/dev/lib/python3.10/site-packages/tornado/platform/asyncio.py\", line 215, in start\n\n  File \"/Users/ryak/anaconda3/envs/dev/lib/python3.10/asyncio/base_events.py\", line 603, in run_forever\n\n  File \"/Users/ryak/anaconda3/envs/dev/lib/python3.10/asyncio/base_events.py\", line 1909, in _run_once\n\n  File \"/Users/ryak/anaconda3/envs/dev/lib/python3.10/asyncio/events.py\", line 80, in _run\n\n  File \"/Users/ryak/anaconda3/envs/dev/lib/python3.10/site-packages/ipykernel/kernelbase.py\", line 510, in dispatch_queue\n\n  File \"/Users/ryak/anaconda3/envs/dev/lib/python3.10/site-packages/ipykernel/kernelbase.py\", line 499, in process_one\n\n  File \"/Users/ryak/anaconda3/envs/dev/lib/python3.10/site-packages/ipykernel/kernelbase.py\", line 406, in dispatch_shell\n\n  File \"/Users/ryak/anaconda3/envs/dev/lib/python3.10/site-packages/ipykernel/kernelbase.py\", line 729, in execute_request\n\n  File \"/Users/ryak/anaconda3/envs/dev/lib/python3.10/site-packages/ipykernel/ipkernel.py\", line 411, in do_execute\n\n  File \"/Users/ryak/anaconda3/envs/dev/lib/python3.10/site-packages/ipykernel/zmqshell.py\", line 531, in run_cell\n\n  File \"/Users/ryak/anaconda3/envs/dev/lib/python3.10/site-packages/IPython/core/interactiveshell.py\", line 3006, in run_cell\n\n  File \"/Users/ryak/anaconda3/envs/dev/lib/python3.10/site-packages/IPython/core/interactiveshell.py\", line 3061, in _run_cell\n\n  File \"/Users/ryak/anaconda3/envs/dev/lib/python3.10/site-packages/IPython/core/async_helpers.py\", line 129, in _pseudo_sync_runner\n\n  File \"/Users/ryak/anaconda3/envs/dev/lib/python3.10/site-packages/IPython/core/interactiveshell.py\", line 3266, in run_cell_async\n\n  File \"/Users/ryak/anaconda3/envs/dev/lib/python3.10/site-packages/IPython/core/interactiveshell.py\", line 3445, in run_ast_nodes\n\n  File \"/Users/ryak/anaconda3/envs/dev/lib/python3.10/site-packages/IPython/core/interactiveshell.py\", line 3505, in run_code\n\n  File \"/var/folders/pr/r9s7fv8d3hl7zl078q3rzs_00000gn/T/ipykernel_16985/4073658168.py\", line 2, in <module>\n\n  File \"/Users/ryak/anaconda3/envs/dev/lib/python3.10/site-packages/keras/src/utils/traceback_utils.py\", line 65, in error_handler\n\n  File \"/Users/ryak/anaconda3/envs/dev/lib/python3.10/site-packages/keras/src/engine/training.py\", line 1783, in fit\n\n  File \"/Users/ryak/anaconda3/envs/dev/lib/python3.10/site-packages/keras/src/engine/training.py\", line 1377, in train_function\n\n  File \"/Users/ryak/anaconda3/envs/dev/lib/python3.10/site-packages/keras/src/engine/training.py\", line 1360, in step_function\n\n  File \"/Users/ryak/anaconda3/envs/dev/lib/python3.10/site-packages/keras/src/engine/training.py\", line 1349, in run_step\n\n  File \"/Users/ryak/anaconda3/envs/dev/lib/python3.10/site-packages/keras/src/engine/training.py\", line 1127, in train_step\n\n  File \"/Users/ryak/anaconda3/envs/dev/lib/python3.10/site-packages/keras/src/engine/training.py\", line 1185, in compute_loss\n\n  File \"/Users/ryak/anaconda3/envs/dev/lib/python3.10/site-packages/keras/src/engine/compile_utils.py\", line 277, in __call__\n\n  File \"/Users/ryak/anaconda3/envs/dev/lib/python3.10/site-packages/keras/src/losses.py\", line 143, in __call__\n\n  File \"/Users/ryak/anaconda3/envs/dev/lib/python3.10/site-packages/keras/src/losses.py\", line 270, in call\n\n  File \"/Users/ryak/anaconda3/envs/dev/lib/python3.10/site-packages/keras/src/losses.py\", line 2521, in binary_crossentropy\n\nCast string to float is not supported\n\t [[{{node binary_crossentropy/Cast}}]] [Op:__inference_train_function_13618]"
     ]
    }
   ],
   "source": [
    "# Train the model\n",
    "fit_nn = nn.fit(X_train_scaled, y_train, epochs=100)"
   ]
  },
  {
   "cell_type": "code",
   "execution_count": null,
   "id": "61ea2367",
   "metadata": {},
   "outputs": [],
   "source": []
  }
 ],
 "metadata": {
  "kernelspec": {
   "display_name": "PythonData",
   "language": "python",
   "name": "pythondata"
  },
  "language_info": {
   "codemirror_mode": {
    "name": "ipython",
    "version": 3
   },
   "file_extension": ".py",
   "mimetype": "text/x-python",
   "name": "python",
   "nbconvert_exporter": "python",
   "pygments_lexer": "ipython3",
   "version": "3.11.4"
  }
 },
 "nbformat": 4,
 "nbformat_minor": 5
}
